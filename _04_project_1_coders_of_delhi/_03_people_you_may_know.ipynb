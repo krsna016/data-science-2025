{
 "cells": [
  {
   "metadata": {
    "ExecuteTime": {
     "end_time": "2025-04-20T17:15:50.252475Z",
     "start_time": "2025-04-20T17:15:50.244160Z"
    }
   },
   "cell_type": "code",
   "source": [
    "import json\n",
    "from typing import Dict, Any"
   ],
   "id": "26127c648fbe4528",
   "outputs": [],
   "execution_count": 20
  },
  {
   "metadata": {
    "ExecuteTime": {
     "end_time": "2025-04-20T17:15:50.419985Z",
     "start_time": "2025-04-20T17:15:50.416856Z"
    }
   },
   "cell_type": "code",
   "source": [
    "def load_data(filename: str) -> Dict:\n",
    "    with open(filename, 'r') as f:\n",
    "        return json.load(f)"
   ],
   "id": "25b83cd5954e1b82",
   "outputs": [],
   "execution_count": 21
  },
  {
   "metadata": {
    "ExecuteTime": {
     "end_time": "2025-04-20T17:15:50.567601Z",
     "start_time": "2025-04-20T17:15:50.563116Z"
    }
   },
   "cell_type": "code",
   "source": [
    "def find_people_you_may_know(user_id: int, data:Dict) -> list:\n",
    "    user_friends: Dict = {}\n",
    "    for user in data['users']:\n",
    "        user_friends[user['id']] = set(user['friends'])\n",
    "\n",
    "    if user_id not in user_friends:\n",
    "        return []\n",
    "\n",
    "    direct_friends: set[int] = user_friends[user_id]\n",
    "\n",
    "    suggestions: Dict = {}\n",
    "    for friend in direct_friends:\n",
    "        for mutual in user_friends[friend]:\n",
    "            if mutual != user_id and mutual not in direct_friends:\n",
    "                # Count mutual friends:\n",
    "                suggestions[mutual] = suggestions.get(mutual, 0) + 1\n",
    "\n",
    "    sorted_suggestions: list = sorted(suggestions.items(), key=lambda x:x[1], reverse=True)\n",
    "    return [user_id for user_id, mutual_count in sorted_suggestions]\n"
   ],
   "id": "7f59deb2a3057697",
   "outputs": [],
   "execution_count": 22
  },
  {
   "metadata": {
    "ExecuteTime": {
     "end_time": "2025-04-20T17:15:50.730892Z",
     "start_time": "2025-04-20T17:15:50.727784Z"
    }
   },
   "cell_type": "code",
   "source": [
    "# Load the data:\n",
    "data: Dict = load_data('data_2.json')\n",
    "user_id: int = 3\n",
    "recommends = find_people_you_may_know(user_id, data)\n",
    "print(recommends)"
   ],
   "id": "d696dd39aaac486b",
   "outputs": [
    {
     "name": "stdout",
     "output_type": "stream",
     "text": [
      "[6, 5, 9, 13, 10, 14]\n"
     ]
    }
   ],
   "execution_count": 23
  },
  {
   "metadata": {},
   "cell_type": "code",
   "outputs": [],
   "execution_count": null,
   "source": "",
   "id": "e07f002f4d8ed07a"
  }
 ],
 "metadata": {
  "kernelspec": {
   "name": "python3",
   "language": "python",
   "display_name": "Python 3 (ipykernel)"
  }
 },
 "nbformat": 5,
 "nbformat_minor": 9
}
