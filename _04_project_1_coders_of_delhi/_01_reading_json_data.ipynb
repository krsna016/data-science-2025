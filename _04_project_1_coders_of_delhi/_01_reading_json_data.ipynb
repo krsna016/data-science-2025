{
 "cells": [
  {
   "metadata": {
    "ExecuteTime": {
     "end_time": "2025-04-17T16:35:20.560852Z",
     "start_time": "2025-04-17T16:35:20.551330Z"
    }
   },
   "cell_type": "code",
   "source": [
    "import json\n",
    "from typing import Dict, Any"
   ],
   "id": "4ba3cd800acda493",
   "outputs": [],
   "execution_count": 25
  },
  {
   "metadata": {
    "ExecuteTime": {
     "end_time": "2025-04-17T16:35:20.742044Z",
     "start_time": "2025-04-17T16:35:20.738366Z"
    }
   },
   "cell_type": "code",
   "source": [
    "def load_data(file_name: str) -> Dict:\n",
    "    \"\"\"Function to load data from json file\"\"\"\n",
    "    with open(file_name, 'r') as f:\n",
    "        data: Dict = json.load(f)\n",
    "    return data"
   ],
   "id": "f83090aa1d99ffcf",
   "outputs": [],
   "execution_count": 26
  },
  {
   "metadata": {
    "ExecuteTime": {
     "end_time": "2025-04-17T16:35:20.914558Z",
     "start_time": "2025-04-17T16:35:20.911241Z"
    }
   },
   "cell_type": "code",
   "source": "data: Dict = load_data('data.json')",
   "id": "d3b403d2ecdc6336",
   "outputs": [],
   "execution_count": 27
  },
  {
   "metadata": {
    "ExecuteTime": {
     "end_time": "2025-04-17T16:35:21.089576Z",
     "start_time": "2025-04-17T16:35:21.085086Z"
    }
   },
   "cell_type": "code",
   "source": "data",
   "id": "e9037c46866383cd",
   "outputs": [
    {
     "data": {
      "text/plain": [
       "{'users': [{'id': 1,\n",
       "   'name': 'Alice',\n",
       "   'friends': [2, 3, 4],\n",
       "   'liked_pages': [1, 2, 3]},\n",
       "  {'id': 2, 'name': 'Bob', 'friends': [1, 3], 'liked_pages': [2, 4]},\n",
       "  {'id': 3,\n",
       "   'name': 'Charlie',\n",
       "   'friends': [1, 2, 4, 5],\n",
       "   'liked_pages': [1, 3, 5]},\n",
       "  {'id': 4, 'name': 'Diana', 'friends': [1, 3], 'liked_pages': [2, 5]},\n",
       "  {'id': 5, 'name': 'Eve', 'friends': [3, 4], 'liked_pages': [1, 4]},\n",
       "  {'id': 6, 'name': 'Frank', 'friends': [2, 5], 'liked_pages': [3, 4, 5]},\n",
       "  {'id': 7, 'name': 'Grace', 'friends': [1, 6], 'liked_pages': [1, 2, 3, 5]},\n",
       "  {'id': 8, 'name': 'Hank', 'friends': [3, 7], 'liked_pages': [2, 4]},\n",
       "  {'id': 9, 'name': 'Ivy', 'friends': [4, 5, 6], 'liked_pages': [1, 3, 5]},\n",
       "  {'id': 10, 'name': 'Jack', 'friends': [7, 8, 9], 'liked_pages': [2, 4, 5]}],\n",
       " 'pages': [{'id': 1, 'name': 'Tech News'},\n",
       "  {'id': 2, 'name': 'Travel Diaries'},\n",
       "  {'id': 3, 'name': 'Food Lovers'},\n",
       "  {'id': 4, 'name': 'Fitness Freaks'},\n",
       "  {'id': 5, 'name': 'Movie Buffs'}]}"
      ]
     },
     "execution_count": 28,
     "metadata": {},
     "output_type": "execute_result"
    }
   ],
   "execution_count": 28
  },
  {
   "metadata": {
    "ExecuteTime": {
     "end_time": "2025-04-17T16:35:21.248829Z",
     "start_time": "2025-04-17T16:35:21.244403Z"
    }
   },
   "cell_type": "code",
   "source": [
    "def display_users(data: Dict) -> None:\n",
    "    \"\"\"Function to display users and their connections\"\"\"\n",
    "    print(\"Users and their connections : \")\n",
    "    for user in data['users']:\n",
    "        print(f'ID:{user['id']}->{user['name']} is friends with - {user['friends']} and like pages are - {user['liked_pages']}')\n",
    "\n",
    "    print()\n",
    "\n",
    "    print(\"Pages information : \")\n",
    "    for page in data['pages']:\n",
    "        print(f'{page['id']} - {page['name']}')"
   ],
   "id": "ae3836a616ca70ad",
   "outputs": [],
   "execution_count": 29
  },
  {
   "metadata": {
    "ExecuteTime": {
     "end_time": "2025-04-17T16:35:21.420241Z",
     "start_time": "2025-04-17T16:35:21.417925Z"
    }
   },
   "cell_type": "code",
   "source": "display_users(data)",
   "id": "216610ceb9018f89",
   "outputs": [
    {
     "name": "stdout",
     "output_type": "stream",
     "text": [
      "Users and their connections : \n",
      "ID:1->Alice is friends with - [2, 3, 4] and like pages are - [1, 2, 3]\n",
      "ID:2->Bob is friends with - [1, 3] and like pages are - [2, 4]\n",
      "ID:3->Charlie is friends with - [1, 2, 4, 5] and like pages are - [1, 3, 5]\n",
      "ID:4->Diana is friends with - [1, 3] and like pages are - [2, 5]\n",
      "ID:5->Eve is friends with - [3, 4] and like pages are - [1, 4]\n",
      "ID:6->Frank is friends with - [2, 5] and like pages are - [3, 4, 5]\n",
      "ID:7->Grace is friends with - [1, 6] and like pages are - [1, 2, 3, 5]\n",
      "ID:8->Hank is friends with - [3, 7] and like pages are - [2, 4]\n",
      "ID:9->Ivy is friends with - [4, 5, 6] and like pages are - [1, 3, 5]\n",
      "ID:10->Jack is friends with - [7, 8, 9] and like pages are - [2, 4, 5]\n",
      "\n",
      "Pages information : \n",
      "1 - Tech News\n",
      "2 - Travel Diaries\n",
      "3 - Food Lovers\n",
      "4 - Fitness Freaks\n",
      "5 - Movie Buffs\n"
     ]
    }
   ],
   "execution_count": 30
  },
  {
   "metadata": {
    "ExecuteTime": {
     "end_time": "2025-04-17T16:35:21.617992Z",
     "start_time": "2025-04-17T16:35:21.616456Z"
    }
   },
   "cell_type": "code",
   "source": "",
   "id": "ef26aed15445e6fe",
   "outputs": [],
   "execution_count": null
  },
  {
   "metadata": {},
   "cell_type": "code",
   "outputs": [],
   "execution_count": null,
   "source": "",
   "id": "593cd3edbe58c75e"
  }
 ],
 "metadata": {
  "kernelspec": {
   "name": "python3",
   "language": "python",
   "display_name": "Python 3 (ipykernel)"
  }
 },
 "nbformat": 5,
 "nbformat_minor": 9
}
