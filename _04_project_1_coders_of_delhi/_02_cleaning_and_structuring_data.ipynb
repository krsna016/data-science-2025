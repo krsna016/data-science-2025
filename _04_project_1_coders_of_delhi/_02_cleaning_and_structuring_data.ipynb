{
 "cells": [
  {
   "metadata": {
    "ExecuteTime": {
     "end_time": "2025-04-18T15:38:48.476006Z",
     "start_time": "2025-04-18T15:38:48.472287Z"
    }
   },
   "cell_type": "code",
   "source": [
    "import json\n",
    "from typing import Any, Dict"
   ],
   "id": "9c0319e692a45a74",
   "outputs": [],
   "execution_count": 72
  },
  {
   "metadata": {
    "ExecuteTime": {
     "end_time": "2025-04-18T15:38:48.709684Z",
     "start_time": "2025-04-18T15:38:48.704663Z"
    }
   },
   "cell_type": "code",
   "source": [
    "def clean_data(json_data: Dict) -> Dict:\n",
    "    \"This function will remove the data where username is not mentioned or duplicate ones or inactive users or duplicate pages\"\n",
    "\n",
    "    # Code to remove blanks:\n",
    "    json_data['users'] = [user for user in json_data['users'] if user['name'].strip()]\n",
    "\n",
    "    # Code to remove duplicate friends:\n",
    "    for user in json_data['users']:\n",
    "        user['friends'] = list(set(user['friends']))\n",
    "\n",
    "    # Code to remove inactive users:\n",
    "    json_data['users'] = [user for user in json_data['users'] if user['friends'] or user['liked_pages']]\n",
    "\n",
    "    # Remove duplicate pages:\n",
    "    unique_pages = {}\n",
    "    for page in json_data['pages']:\n",
    "        unique_pages[page['id']] = page\n",
    "    json_data['pages'] = list(unique_pages.values())\n",
    "\n",
    "    return json_data"
   ],
   "id": "9d2b355128855b4f",
   "outputs": [],
   "execution_count": 73
  },
  {
   "metadata": {
    "ExecuteTime": {
     "end_time": "2025-04-18T15:38:48.903653Z",
     "start_time": "2025-04-18T15:38:48.900609Z"
    }
   },
   "cell_type": "code",
   "source": [
    "# Load the Data:\n",
    "data: Dict = json.load(open('data_1.json'))\n",
    "cleaned_data: Dict = clean_data(data)"
   ],
   "id": "2a7b564668cde980",
   "outputs": [],
   "execution_count": 74
  },
  {
   "metadata": {
    "ExecuteTime": {
     "end_time": "2025-04-18T15:38:49.149067Z",
     "start_time": "2025-04-18T15:38:49.144911Z"
    }
   },
   "cell_type": "code",
   "source": [
    "# Dump the Data:\n",
    "json.dump(cleaned_data, open('cleaned_data_1.json', 'w'), indent=4)\n",
    "print(\"Data has been cleaned successfully!!\")"
   ],
   "id": "d75c6f6f88d3b729",
   "outputs": [
    {
     "name": "stdout",
     "output_type": "stream",
     "text": [
      "Data has been cleaned successfully!!\n"
     ]
    }
   ],
   "execution_count": 75
  }
 ],
 "metadata": {
  "kernelspec": {
   "name": "python3",
   "language": "python",
   "display_name": "Python 3 (ipykernel)"
  }
 },
 "nbformat": 5,
 "nbformat_minor": 9
}
