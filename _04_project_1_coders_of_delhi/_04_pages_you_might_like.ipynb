{
 "cells": [
  {
   "metadata": {
    "ExecuteTime": {
     "end_time": "2025-04-20T17:30:59.668748Z",
     "start_time": "2025-04-20T17:30:59.662926Z"
    }
   },
   "cell_type": "code",
   "source": [
    "import json\n",
    "from typing import Dict, Any"
   ],
   "id": "31c8354c2df4a065",
   "outputs": [],
   "execution_count": 4
  },
  {
   "metadata": {
    "ExecuteTime": {
     "end_time": "2025-04-20T17:30:59.835457Z",
     "start_time": "2025-04-20T17:30:59.832327Z"
    }
   },
   "cell_type": "code",
   "source": [
    "def load_data(filename: str) -> Dict:\n",
    "    \"\"\"Function to load the json data\"\"\"\n",
    "    with open(filename, 'r') as f:\n",
    "        return json.load(f)"
   ],
   "id": "f83efe6e88f850e6",
   "outputs": [],
   "execution_count": 5
  },
  {
   "metadata": {
    "ExecuteTime": {
     "end_time": "2025-04-20T17:31:00.001924Z",
     "start_time": "2025-04-20T17:30:59.995943Z"
    }
   },
   "cell_type": "code",
   "source": [
    "def find_pages_you_might_like(user_id: int, data: Dict) -> list[int]:\n",
    "    \"\"\"Function to find pages a user might like based on common interests\"\"\"\n",
    "    user_pages: Dict = {}\n",
    "    for user in data['users']:\n",
    "        user_pages[user['id']] = set(user['liked_pages'])\n",
    "\n",
    "    if user_id not in user_pages:\n",
    "        return []\n",
    "\n",
    "    user_liked_pages: set[int] = user_pages[user_id]\n",
    "    page_suggestions: Dict = {}\n",
    "\n",
    "    for other_user, pages in user_pages.items():\n",
    "        if other_user != user_id:\n",
    "            shared_pages: set[int] = user_liked_pages.intersection(pages)\n",
    "        for page in pages:\n",
    "            if page not in user_liked_pages:\n",
    "                page_suggestions[page] = page_suggestions.get(page, 0) + len(shared_pages)\n",
    "\n",
    "    sorted_pages: list[tuple[int,int]] = sorted(page_suggestions.items(), key=lambda x: [1], reverse=True)\n",
    "    return [page_id for page_id, _ in sorted_pages]"
   ],
   "id": "3840d43b49dd73a6",
   "outputs": [],
   "execution_count": 6
  },
  {
   "metadata": {
    "ExecuteTime": {
     "end_time": "2025-04-20T17:31:00.187332Z",
     "start_time": "2025-04-20T17:31:00.184075Z"
    }
   },
   "cell_type": "code",
   "source": [
    "data: Dict = load_data('data_2.json')\n",
    "user_id: int = 1\n",
    "page_recommendations: list[int] = find_pages_you_might_like(user_id, data)\n",
    "print(page_recommendations)"
   ],
   "id": "7ac025dcd092f907",
   "outputs": [
    {
     "name": "stdout",
     "output_type": "stream",
     "text": [
      "[103, 104, 105, 106, 107, 108, 109, 110, 111, 112, 113, 114, 115, 116, 117, 118, 119, 120, 121, 122, 123, 124, 125, 126, 127]\n"
     ]
    }
   ],
   "execution_count": 7
  },
  {
   "metadata": {},
   "cell_type": "code",
   "outputs": [],
   "execution_count": null,
   "source": "",
   "id": "1a573cafcd5a078b"
  }
 ],
 "metadata": {
  "kernelspec": {
   "name": "python3",
   "language": "python",
   "display_name": "Python 3 (ipykernel)"
  }
 },
 "nbformat": 5,
 "nbformat_minor": 9
}
