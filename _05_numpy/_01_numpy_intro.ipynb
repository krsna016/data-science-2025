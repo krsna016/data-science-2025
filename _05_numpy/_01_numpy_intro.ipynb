{
 "cells": [
  {
   "metadata": {},
   "cell_type": "markdown",
   "source": "# Speed Test:",
   "id": "a3d7bcae30b87893"
  },
  {
   "metadata": {
    "ExecuteTime": {
     "end_time": "2025-04-21T00:16:01.860161Z",
     "start_time": "2025-04-21T00:16:01.852466Z"
    }
   },
   "cell_type": "code",
   "source": [
    "import numpy as np\n",
    "import time\n",
    "import sys"
   ],
   "id": "87ce4a6da12aa81d",
   "outputs": [],
   "execution_count": 10
  },
  {
   "metadata": {
    "ExecuteTime": {
     "end_time": "2025-04-21T00:13:21.162299Z",
     "start_time": "2025-04-20T18:11:03.657531Z"
    }
   },
   "cell_type": "code",
   "source": "size: int = 1_000_000_00",
   "id": "836fd4b1f97ecf11",
   "outputs": [],
   "execution_count": 2
  },
  {
   "metadata": {
    "ExecuteTime": {
     "end_time": "2025-04-21T00:13:21.167283Z",
     "start_time": "2025-04-20T18:11:46.297789Z"
    }
   },
   "cell_type": "code",
   "source": [
    "# Python List:\n",
    "list_1: list[int] = list(range(size))\n",
    "list_2: list[int] = list(range(size))\n",
    "\n",
    "start: float = time.time()\n",
    "result: list[int] = [x + y for x, y in zip(list_1, list_2)]\n",
    "end: float = time.time()\n",
    "\n",
    "print(f'Python list addition time => {end-start}')"
   ],
   "id": "bdaa9ae4a745fb4f",
   "outputs": [
    {
     "name": "stdout",
     "output_type": "stream",
     "text": [
      "Python list addition time => 14.526472091674805\n"
     ]
    }
   ],
   "execution_count": 4
  },
  {
   "metadata": {
    "ExecuteTime": {
     "end_time": "2025-04-20T18:11:28.859618Z",
     "start_time": "2025-04-20T18:11:05.562588Z"
    }
   },
   "cell_type": "code",
   "source": [
    "\n",
    "# Numpy Arrays:\n",
    "arr_1 = np.array(list(range(size)))\n",
    "arr_2 = np.array(list(range(size)))\n",
    "\n",
    "start: float = time.time()\n",
    "result = arr_1 + arr_2 # Vectorized Operation\n",
    "end: float = time.time()\n",
    "\n",
    "print(f'Numpy arrays addition time => {end-start}')"
   ],
   "id": "dca0601f2fdc9de6",
   "outputs": [
    {
     "name": "stdout",
     "output_type": "stream",
     "text": [
      "Numpy arrays addition time => 0.43528294563293457\n"
     ]
    }
   ],
   "execution_count": 3
  },
  {
   "metadata": {},
   "cell_type": "markdown",
   "source": "# Numpy Arrays:",
   "id": "670885d4c97c52c8"
  },
  {
   "metadata": {
    "ExecuteTime": {
     "end_time": "2025-04-21T00:13:31.218223Z",
     "start_time": "2025-04-21T00:13:31.210595Z"
    }
   },
   "cell_type": "code",
   "source": "np.array([1,2,3,4,5,'Anurag'])",
   "id": "37ba9db8734f6c64",
   "outputs": [
    {
     "data": {
      "text/plain": [
       "array(['1', '2', '3', '4', '5', 'Anurag'], dtype='<U21')"
      ]
     },
     "execution_count": 3,
     "metadata": {},
     "output_type": "execute_result"
    }
   ],
   "execution_count": 3
  },
  {
   "metadata": {
    "ExecuteTime": {
     "end_time": "2025-04-21T00:13:31.903840Z",
     "start_time": "2025-04-21T00:13:31.898636Z"
    }
   },
   "cell_type": "code",
   "source": "np.array([1,2,3,4,5])",
   "id": "84cf98a64d22eeb7",
   "outputs": [
    {
     "data": {
      "text/plain": [
       "array([1, 2, 3, 4, 5])"
      ]
     },
     "execution_count": 4,
     "metadata": {},
     "output_type": "execute_result"
    }
   ],
   "execution_count": 4
  },
  {
   "metadata": {
    "ExecuteTime": {
     "end_time": "2025-04-21T00:13:54.065800Z",
     "start_time": "2025-04-21T00:13:54.063303Z"
    }
   },
   "cell_type": "code",
   "source": "arr = np.array([[1,2,3],[4,5,6]])",
   "id": "52d2cccc241c9799",
   "outputs": [],
   "execution_count": 6
  },
  {
   "metadata": {
    "ExecuteTime": {
     "end_time": "2025-04-21T00:13:56.713979Z",
     "start_time": "2025-04-21T00:13:56.708817Z"
    }
   },
   "cell_type": "code",
   "source": "arr",
   "id": "584b422edbc1318d",
   "outputs": [
    {
     "data": {
      "text/plain": [
       "array([[1, 2, 3],\n",
       "       [4, 5, 6]])"
      ]
     },
     "execution_count": 7,
     "metadata": {},
     "output_type": "execute_result"
    }
   ],
   "execution_count": 7
  },
  {
   "metadata": {
    "ExecuteTime": {
     "end_time": "2025-04-21T00:14:00.959277Z",
     "start_time": "2025-04-21T00:14:00.955777Z"
    }
   },
   "cell_type": "code",
   "source": "type(arr)",
   "id": "a49f52cab4ae5efd",
   "outputs": [
    {
     "data": {
      "text/plain": [
       "numpy.ndarray"
      ]
     },
     "execution_count": 8,
     "metadata": {},
     "output_type": "execute_result"
    }
   ],
   "execution_count": 8
  },
  {
   "metadata": {
    "ExecuteTime": {
     "end_time": "2025-04-21T00:14:10.989242Z",
     "start_time": "2025-04-21T00:14:10.984635Z"
    }
   },
   "cell_type": "code",
   "source": "arr.shape",
   "id": "551a6d9184bef929",
   "outputs": [
    {
     "data": {
      "text/plain": [
       "(2, 3)"
      ]
     },
     "execution_count": 9,
     "metadata": {},
     "output_type": "execute_result"
    }
   ],
   "execution_count": 9
  },
  {
   "metadata": {},
   "cell_type": "markdown",
   "source": "# Memory Efficiency",
   "id": "b534290e91f8e41"
  },
  {
   "metadata": {
    "ExecuteTime": {
     "end_time": "2025-04-21T00:18:11.835033Z",
     "start_time": "2025-04-21T00:18:11.827978Z"
    }
   },
   "cell_type": "code",
   "source": [
    "list_data: list[int] = list(range(1000))\n",
    "numpy_data = np.array(list_data)\n",
    "print(f'Python list size: {sys.getsizeof(list_data) * len(list_data)} bytes.')\n",
    "print(f'Numpy array size: {numpy_data.nbytes} bytes.')"
   ],
   "id": "659fdc1dbbade16c",
   "outputs": [
    {
     "name": "stdout",
     "output_type": "stream",
     "text": [
      "Python list size: 8056000 bytes.\n",
      "Numpy array size: 8000 bytes.\n"
     ]
    }
   ],
   "execution_count": 11
  },
  {
   "metadata": {
    "ExecuteTime": {
     "end_time": "2025-04-21T00:20:51.867701Z",
     "start_time": "2025-04-21T00:20:51.855668Z"
    }
   },
   "cell_type": "code",
   "source": "arr ** 2",
   "id": "57c3cfc3e7e2bd63",
   "outputs": [
    {
     "data": {
      "text/plain": [
       "array([[ 1,  4,  9],\n",
       "       [16, 25, 36]])"
      ]
     },
     "execution_count": 12,
     "metadata": {},
     "output_type": "execute_result"
    }
   ],
   "execution_count": 12
  },
  {
   "metadata": {},
   "cell_type": "markdown",
   "source": "# Speed Test:",
   "id": "d58fca11f2ec7544"
  },
  {
   "metadata": {
    "ExecuteTime": {
     "end_time": "2025-04-21T00:24:07.330955Z",
     "start_time": "2025-04-21T00:24:06.056893Z"
    }
   },
   "cell_type": "code",
   "source": [
    "# Python List:\n",
    "lst: list[int] = list(range(1000_000_0))\n",
    "start: float = time.time()\n",
    "lst_sqr: list[int] = [i ** 2 for i in lst]\n",
    "end: float = time.time()\n",
    "print(f'Python list squaring time => {end-start}')"
   ],
   "id": "350a978a85162d71",
   "outputs": [
    {
     "name": "stdout",
     "output_type": "stream",
     "text": [
      "Python list squaring time => 1.064993143081665\n"
     ]
    }
   ],
   "execution_count": 16
  },
  {
   "metadata": {
    "ExecuteTime": {
     "end_time": "2025-04-21T00:24:09.131851Z",
     "start_time": "2025-04-21T00:24:08.059791Z"
    }
   },
   "cell_type": "code",
   "source": [
    "# Numpy Arrays:\n",
    "arr = np.array(list(range(1000_000_0)))\n",
    "start: float = time.time()\n",
    "lst_sqr: arr = arr ** 2\n",
    "end: float = time.time()\n",
    "print(f'Numpy array squaring time => {end-start}')"
   ],
   "id": "f35fcc3ab084f740",
   "outputs": [
    {
     "name": "stdout",
     "output_type": "stream",
     "text": [
      "Numpy array squaring time => 0.205855131149292\n"
     ]
    }
   ],
   "execution_count": 17
  },
  {
   "metadata": {},
   "cell_type": "code",
   "outputs": [],
   "execution_count": null,
   "source": "",
   "id": "932e50dbb968a3fb"
  }
 ],
 "metadata": {
  "kernelspec": {
   "name": "python3",
   "language": "python",
   "display_name": "Python 3 (ipykernel)"
  }
 },
 "nbformat": 5,
 "nbformat_minor": 9
}
