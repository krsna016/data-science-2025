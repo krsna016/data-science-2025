{
 "cells": [
  {
   "metadata": {
    "ExecuteTime": {
     "end_time": "2025-04-12T02:30:39.152978Z",
     "start_time": "2025-04-12T02:30:39.142364Z"
    }
   },
   "cell_type": "code",
   "source": [
    "from datetime import datetime\n",
    "class Employee:\n",
    "    company = 'HP'\n",
    "    def __init__(self, name, salary='10000 dollars'):\n",
    "        self.salary = salary\n",
    "        self.name = name\n",
    "    def print_detail(self):\n",
    "        print(f'The company is {self.company}')\n",
    "        print(f\"Salary of {self.name} is {self.salary}\")\n",
    "    @staticmethod\n",
    "    def print_time():\n",
    "        print(f'The time is {datetime.now().time()}')\n",
    "    @classmethod\n",
    "    def change_company(cls, name):\n",
    "        cls.company = name\n",
    "        "
   ],
   "id": "4e5dc6fbc4f2022c",
   "outputs": [],
   "execution_count": 19
  },
  {
   "metadata": {
    "ExecuteTime": {
     "end_time": "2025-04-12T02:30:39.426465Z",
     "start_time": "2025-04-12T02:30:39.393465Z"
    }
   },
   "cell_type": "code",
   "source": [
    "e = Employee(\"Anurag\")\n",
    "e.print_detail()\n",
    "e.print_time()\n",
    "# also\n",
    "Employee.print_time() # Only with static methods\n",
    "e.change_company(\"Google\")\n",
    "e.print_detail()\n",
    "e.print_time()"
   ],
   "id": "3b533d4a9dc5f54b",
   "outputs": [
    {
     "name": "stdout",
     "output_type": "stream",
     "text": [
      "The company is HP\n",
      "Salary of Anurag is 10000 dollars\n",
      "The time is 08:00:39.395049\n",
      "The time is 08:00:39.395105\n",
      "The company is Google\n",
      "Salary of Anurag is 10000 dollars\n",
      "The time is 08:00:39.395186\n"
     ]
    }
   ],
   "execution_count": 20
  }
 ],
 "metadata": {
  "kernelspec": {
   "name": "python3",
   "language": "python",
   "display_name": "Python 3 (ipykernel)"
  }
 },
 "nbformat": 5,
 "nbformat_minor": 9
}
