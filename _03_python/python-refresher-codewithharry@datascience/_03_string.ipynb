{
 "cells": [
  {
   "metadata": {
    "ExecuteTime": {
     "end_time": "2025-04-10T11:05:07.871528Z",
     "start_time": "2025-04-10T11:05:07.868443Z"
    }
   },
   "cell_type": "code",
   "source": "name: str = \"Anurag Pareek\"",
   "id": "6766da97ac5adf9a",
   "outputs": [],
   "execution_count": 6
  },
  {
   "metadata": {
    "ExecuteTime": {
     "end_time": "2025-04-10T11:05:08.048142Z",
     "start_time": "2025-04-10T11:05:08.045134Z"
    }
   },
   "cell_type": "code",
   "source": "name",
   "id": "f221f9b1a391e56b",
   "outputs": [
    {
     "data": {
      "text/plain": [
       "'Anurag Pareek'"
      ]
     },
     "execution_count": 7,
     "metadata": {},
     "output_type": "execute_result"
    }
   ],
   "execution_count": 7
  },
  {
   "metadata": {
    "ExecuteTime": {
     "end_time": "2025-04-10T11:05:08.201610Z",
     "start_time": "2025-04-10T11:05:08.197768Z"
    }
   },
   "cell_type": "code",
   "source": "name.upper()",
   "id": "324f2193c2d334d6",
   "outputs": [
    {
     "data": {
      "text/plain": [
       "'ANURAG PAREEK'"
      ]
     },
     "execution_count": 8,
     "metadata": {},
     "output_type": "execute_result"
    }
   ],
   "execution_count": 8
  },
  {
   "metadata": {
    "ExecuteTime": {
     "end_time": "2025-04-10T11:05:08.357922Z",
     "start_time": "2025-04-10T11:05:08.354326Z"
    }
   },
   "cell_type": "code",
   "source": "name.lower()",
   "id": "48a13e43273aae49",
   "outputs": [
    {
     "data": {
      "text/plain": [
       "'anurag pareek'"
      ]
     },
     "execution_count": 9,
     "metadata": {},
     "output_type": "execute_result"
    }
   ],
   "execution_count": 9
  },
  {
   "metadata": {
    "ExecuteTime": {
     "end_time": "2025-04-10T11:05:08.514636Z",
     "start_time": "2025-04-10T11:05:08.511448Z"
    }
   },
   "cell_type": "code",
   "source": "name.capitalize()",
   "id": "b43c4a0cf4b7411a",
   "outputs": [
    {
     "data": {
      "text/plain": [
       "'Anurag pareek'"
      ]
     },
     "execution_count": 10,
     "metadata": {},
     "output_type": "execute_result"
    }
   ],
   "execution_count": 10
  },
  {
   "metadata": {
    "ExecuteTime": {
     "end_time": "2025-04-10T11:05:30.089656Z",
     "start_time": "2025-04-10T11:05:30.085877Z"
    }
   },
   "cell_type": "code",
   "source": "name.endswith(\"eek\")",
   "id": "6bae6627b18f85e0",
   "outputs": [
    {
     "data": {
      "text/plain": [
       "True"
      ]
     },
     "execution_count": 13,
     "metadata": {},
     "output_type": "execute_result"
    }
   ],
   "execution_count": 13
  },
  {
   "metadata": {
    "ExecuteTime": {
     "end_time": "2025-04-10T11:06:00.150004Z",
     "start_time": "2025-04-10T11:06:00.144071Z"
    }
   },
   "cell_type": "code",
   "source": "name.count('A')",
   "id": "a3b27be293460d32",
   "outputs": [
    {
     "data": {
      "text/plain": [
       "1"
      ]
     },
     "execution_count": 15,
     "metadata": {},
     "output_type": "execute_result"
    }
   ],
   "execution_count": 15
  },
  {
   "metadata": {
    "ExecuteTime": {
     "end_time": "2025-04-10T11:06:09.999866Z",
     "start_time": "2025-04-10T11:06:09.995534Z"
    }
   },
   "cell_type": "code",
   "source": "name.count('e')",
   "id": "279ec7209cc92800",
   "outputs": [
    {
     "data": {
      "text/plain": [
       "2"
      ]
     },
     "execution_count": 16,
     "metadata": {},
     "output_type": "execute_result"
    }
   ],
   "execution_count": 16
  },
  {
   "metadata": {
    "ExecuteTime": {
     "end_time": "2025-04-10T11:07:05.565003Z",
     "start_time": "2025-04-10T11:07:05.555607Z"
    }
   },
   "cell_type": "code",
   "source": "len(name)",
   "id": "98e719f6eae19dab",
   "outputs": [
    {
     "data": {
      "text/plain": [
       "13"
      ]
     },
     "execution_count": 17,
     "metadata": {},
     "output_type": "execute_result"
    }
   ],
   "execution_count": 17
  },
  {
   "metadata": {
    "ExecuteTime": {
     "end_time": "2025-04-10T11:08:03.661466Z",
     "start_time": "2025-04-10T11:08:03.657022Z"
    }
   },
   "cell_type": "code",
   "source": "name.replace('P','_')",
   "id": "86f0b42c608963c5",
   "outputs": [
    {
     "data": {
      "text/plain": [
       "'Anurag _areek'"
      ]
     },
     "execution_count": 20,
     "metadata": {},
     "output_type": "execute_result"
    }
   ],
   "execution_count": 20
  },
  {
   "metadata": {
    "ExecuteTime": {
     "end_time": "2025-04-10T11:08:13.767639Z",
     "start_time": "2025-04-10T11:08:13.763752Z"
    }
   },
   "cell_type": "code",
   "source": "name[:5]",
   "id": "5734bc5cfd10516d",
   "outputs": [
    {
     "data": {
      "text/plain": [
       "'Anura'"
      ]
     },
     "execution_count": 21,
     "metadata": {},
     "output_type": "execute_result"
    }
   ],
   "execution_count": 21
  },
  {
   "metadata": {
    "ExecuteTime": {
     "end_time": "2025-04-10T11:09:11.261931Z",
     "start_time": "2025-04-10T11:09:11.258826Z"
    }
   },
   "cell_type": "code",
   "source": "name[-6:]",
   "id": "5d674949ab14c355",
   "outputs": [
    {
     "data": {
      "text/plain": [
       "'Pareek'"
      ]
     },
     "execution_count": 23,
     "metadata": {},
     "output_type": "execute_result"
    }
   ],
   "execution_count": 23
  },
  {
   "metadata": {
    "ExecuteTime": {
     "end_time": "2025-04-10T11:11:43.505576Z",
     "start_time": "2025-04-10T11:11:43.498194Z"
    }
   },
   "cell_type": "code",
   "source": "name[1:-1] # To convert negative index to positive and get same result just add len of string with the -ve ones",
   "id": "fef9a16f7de90c28",
   "outputs": [
    {
     "data": {
      "text/plain": [
       "'nurag Paree'"
      ]
     },
     "execution_count": 26,
     "metadata": {},
     "output_type": "execute_result"
    }
   ],
   "execution_count": 26
  },
  {
   "metadata": {
    "ExecuteTime": {
     "end_time": "2025-04-10T11:11:43.730952Z",
     "start_time": "2025-04-10T11:11:43.727639Z"
    }
   },
   "cell_type": "code",
   "source": "name[1:12]",
   "id": "5745a8112053669c",
   "outputs": [
    {
     "data": {
      "text/plain": [
       "'nurag Paree'"
      ]
     },
     "execution_count": 27,
     "metadata": {},
     "output_type": "execute_result"
    }
   ],
   "execution_count": 27
  },
  {
   "metadata": {
    "ExecuteTime": {
     "end_time": "2025-04-10T11:12:39.501343Z",
     "start_time": "2025-04-10T11:12:39.494959Z"
    }
   },
   "cell_type": "code",
   "source": "name[-12:-1]",
   "id": "60097676b82bef1a",
   "outputs": [
    {
     "data": {
      "text/plain": [
       "'nurag Paree'"
      ]
     },
     "execution_count": 30,
     "metadata": {},
     "output_type": "execute_result"
    }
   ],
   "execution_count": 30
  },
  {
   "metadata": {
    "ExecuteTime": {
     "end_time": "2025-04-10T11:12:39.821786Z",
     "start_time": "2025-04-10T11:12:39.818068Z"
    }
   },
   "cell_type": "code",
   "source": "name[1:12]",
   "id": "b388b9453486083f",
   "outputs": [
    {
     "data": {
      "text/plain": [
       "'nurag Paree'"
      ]
     },
     "execution_count": 31,
     "metadata": {},
     "output_type": "execute_result"
    }
   ],
   "execution_count": 31
  }
 ],
 "metadata": {
  "kernelspec": {
   "name": "python3",
   "language": "python",
   "display_name": "Python 3 (ipykernel)"
  }
 },
 "nbformat": 5,
 "nbformat_minor": 9
}
