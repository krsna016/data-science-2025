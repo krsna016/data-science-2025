{
 "cells": [
  {
   "metadata": {
    "ExecuteTime": {
     "end_time": "2025-04-11T04:11:40.793629Z",
     "start_time": "2025-04-11T04:11:40.789700Z"
    }
   },
   "cell_type": "code",
   "source": [
    "from typing import Any\n",
    "t: tuple[Any, Any, Any] = 1, 'Hello', 3+4j"
   ],
   "id": "cd02d03b011ea9fa",
   "outputs": [],
   "execution_count": 2
  },
  {
   "metadata": {
    "ExecuteTime": {
     "end_time": "2025-04-11T04:11:49.477416Z",
     "start_time": "2025-04-11T04:11:49.471151Z"
    }
   },
   "cell_type": "code",
   "source": "type(t)",
   "id": "b4337207aa66b568",
   "outputs": [
    {
     "data": {
      "text/plain": [
       "tuple"
      ]
     },
     "execution_count": 4,
     "metadata": {},
     "output_type": "execute_result"
    }
   ],
   "execution_count": 4
  },
  {
   "metadata": {
    "ExecuteTime": {
     "end_time": "2025-04-11T04:12:26.826447Z",
     "start_time": "2025-04-11T04:12:26.822589Z"
    }
   },
   "cell_type": "code",
   "source": "len(t)",
   "id": "c71a7d60e44f1b22",
   "outputs": [
    {
     "data": {
      "text/plain": [
       "3"
      ]
     },
     "execution_count": 5,
     "metadata": {},
     "output_type": "execute_result"
    }
   ],
   "execution_count": 5
  },
  {
   "metadata": {
    "ExecuteTime": {
     "end_time": "2025-04-11T04:12:30.643025Z",
     "start_time": "2025-04-11T04:12:30.637654Z"
    }
   },
   "cell_type": "code",
   "source": "t[1]",
   "id": "7a28ca2ea51dd71",
   "outputs": [
    {
     "data": {
      "text/plain": [
       "'Hello'"
      ]
     },
     "execution_count": 6,
     "metadata": {},
     "output_type": "execute_result"
    }
   ],
   "execution_count": 6
  },
  {
   "metadata": {
    "ExecuteTime": {
     "end_time": "2025-04-11T04:12:33.103792Z",
     "start_time": "2025-04-11T04:12:33.099123Z"
    }
   },
   "cell_type": "code",
   "source": "t[-1]",
   "id": "b44173a22bfff0b8",
   "outputs": [
    {
     "data": {
      "text/plain": [
       "(3+4j)"
      ]
     },
     "execution_count": 7,
     "metadata": {},
     "output_type": "execute_result"
    }
   ],
   "execution_count": 7
  },
  {
   "metadata": {
    "ExecuteTime": {
     "end_time": "2025-04-11T04:13:58.967280Z",
     "start_time": "2025-04-11T04:13:58.959221Z"
    }
   },
   "cell_type": "code",
   "source": [
    "i, j, k = t\n",
    "i, j ,k"
   ],
   "id": "7c9977bb254c8ce0",
   "outputs": [
    {
     "data": {
      "text/plain": [
       "(1, 'Hello', (3+4j))"
      ]
     },
     "execution_count": 8,
     "metadata": {},
     "output_type": "execute_result"
    }
   ],
   "execution_count": 8
  },
  {
   "metadata": {},
   "cell_type": "code",
   "outputs": [],
   "execution_count": null,
   "source": "",
   "id": "f32a00963828e2a9"
  }
 ],
 "metadata": {
  "kernelspec": {
   "name": "python3",
   "language": "python",
   "display_name": "Python 3 (ipykernel)"
  }
 },
 "nbformat": 5,
 "nbformat_minor": 9
}
