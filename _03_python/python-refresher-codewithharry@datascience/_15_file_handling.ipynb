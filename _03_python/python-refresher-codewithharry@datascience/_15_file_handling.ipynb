{
 "cells": [
  {
   "metadata": {
    "ExecuteTime": {
     "end_time": "2025-04-11T16:23:51.646597Z",
     "start_time": "2025-04-11T16:23:51.641751Z"
    }
   },
   "cell_type": "code",
   "source": "f = open('file.txt',\"r\")",
   "id": "7d69a484be04797",
   "outputs": [],
   "execution_count": 12
  },
  {
   "metadata": {
    "ExecuteTime": {
     "end_time": "2025-04-11T16:23:51.835591Z",
     "start_time": "2025-04-11T16:23:51.832177Z"
    }
   },
   "cell_type": "code",
   "source": [
    "f.read()\n",
    "f.close()"
   ],
   "id": "b4737fd668633218",
   "outputs": [],
   "execution_count": 13
  },
  {
   "metadata": {
    "ExecuteTime": {
     "end_time": "2025-04-11T16:23:52.049246Z",
     "start_time": "2025-04-11T16:23:52.045055Z"
    }
   },
   "cell_type": "code",
   "source": [
    "s = \"This is a nice way\\nto learn data science.\"\n",
    "f = open('file1.txt', 'w')\n",
    "f.write(s)\n",
    "f.close()"
   ],
   "id": "e40ec523c9fdf261",
   "outputs": [],
   "execution_count": 14
  },
  {
   "metadata": {},
   "cell_type": "code",
   "outputs": [],
   "execution_count": null,
   "source": "# and many more - read notes...",
   "id": "5c76e9c6f51e8534"
  }
 ],
 "metadata": {
  "kernelspec": {
   "name": "python3",
   "language": "python",
   "display_name": "Python 3 (ipykernel)"
  }
 },
 "nbformat": 5,
 "nbformat_minor": 9
}
