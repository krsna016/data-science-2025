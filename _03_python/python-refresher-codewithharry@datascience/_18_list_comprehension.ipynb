{
 "cells": [
  {
   "metadata": {
    "ExecuteTime": {
     "end_time": "2025-04-11T16:43:07.993678Z",
     "start_time": "2025-04-11T16:43:07.989026Z"
    }
   },
   "cell_type": "code",
   "source": "table: list = [f'2 x {i} = {2*i}' for i in range(1, 11)]",
   "id": "c880c5d45bfaa1c1",
   "outputs": [],
   "execution_count": 3
  },
  {
   "metadata": {
    "ExecuteTime": {
     "end_time": "2025-04-11T16:43:08.556651Z",
     "start_time": "2025-04-11T16:43:08.552845Z"
    }
   },
   "cell_type": "code",
   "source": "table",
   "id": "c0ace18f035381c2",
   "outputs": [
    {
     "data": {
      "text/plain": [
       "['2 x 1 = 2',\n",
       " '2 x 2 = 4',\n",
       " '2 x 3 = 6',\n",
       " '2 x 4 = 8',\n",
       " '2 x 5 = 10',\n",
       " '2 x 6 = 12',\n",
       " '2 x 7 = 14',\n",
       " '2 x 8 = 16',\n",
       " '2 x 9 = 18',\n",
       " '2 x 10 = 20']"
      ]
     },
     "execution_count": 4,
     "metadata": {},
     "output_type": "execute_result"
    }
   ],
   "execution_count": 4
  },
  {
   "metadata": {
    "ExecuteTime": {
     "end_time": "2025-04-11T16:44:09.694539Z",
     "start_time": "2025-04-11T16:44:09.684079Z"
    }
   },
   "cell_type": "code",
   "source": [
    "l: list = [i for i in range(21) if i%2 == 0]\n",
    "l"
   ],
   "id": "6e0e5fc8823f85a2",
   "outputs": [
    {
     "data": {
      "text/plain": [
       "[0, 2, 4, 6, 8, 10, 12, 14, 16, 18, 20]"
      ]
     },
     "execution_count": 5,
     "metadata": {},
     "output_type": "execute_result"
    }
   ],
   "execution_count": 5
  },
  {
   "metadata": {},
   "cell_type": "code",
   "outputs": [],
   "execution_count": null,
   "source": "# and many more ...",
   "id": "7d903a40ddfe8751"
  }
 ],
 "metadata": {
  "kernelspec": {
   "name": "python3",
   "language": "python",
   "display_name": "Python 3 (ipykernel)"
  }
 },
 "nbformat": 5,
 "nbformat_minor": 9
}
