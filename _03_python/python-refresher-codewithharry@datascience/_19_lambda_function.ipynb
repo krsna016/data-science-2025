{
 "cells": [
  {
   "metadata": {
    "ExecuteTime": {
     "end_time": "2025-04-11T16:58:14.861411Z",
     "start_time": "2025-04-11T16:58:14.855918Z"
    }
   },
   "cell_type": "code",
   "source": [
    "cube = lambda x: x**3\n",
    "cube(3)"
   ],
   "id": "2d43ed209fff2dd7",
   "outputs": [
    {
     "data": {
      "text/plain": [
       "27"
      ]
     },
     "execution_count": 2,
     "metadata": {},
     "output_type": "execute_result"
    }
   ],
   "execution_count": 2
  },
  {
   "metadata": {},
   "cell_type": "code",
   "outputs": [],
   "execution_count": null,
   "source": "",
   "id": "66196b65b21dfdd1"
  }
 ],
 "metadata": {
  "kernelspec": {
   "name": "python3",
   "language": "python",
   "display_name": "Python 3 (ipykernel)"
  }
 },
 "nbformat": 5,
 "nbformat_minor": 9
}
