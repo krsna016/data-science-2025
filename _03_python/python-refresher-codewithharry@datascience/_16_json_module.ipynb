{
 "cells": [
  {
   "metadata": {
    "ExecuteTime": {
     "end_time": "2025-04-11T16:35:31.907440Z",
     "start_time": "2025-04-11T16:35:31.901656Z"
    }
   },
   "cell_type": "code",
   "source": "import json",
   "id": "3bd2c39fa13ee3ff",
   "outputs": [],
   "execution_count": 23
  },
  {
   "metadata": {
    "ExecuteTime": {
     "end_time": "2025-04-11T16:35:32.255496Z",
     "start_time": "2025-04-11T16:35:32.252376Z"
    }
   },
   "cell_type": "code",
   "source": [
    "details: dict = {'name': 'Anurag',\n",
    "                 'age': 22,\n",
    "                 'grade': 'A',\n",
    "                 'address': 'Vrindavan',\n",
    "                 'Hello': 'World'}"
   ],
   "id": "5c2307ba04300818",
   "outputs": [],
   "execution_count": 24
  },
  {
   "metadata": {
    "ExecuteTime": {
     "end_time": "2025-04-11T16:35:32.773113Z",
     "start_time": "2025-04-11T16:35:32.767674Z"
    }
   },
   "cell_type": "code",
   "source": [
    "s = json.dumps(details)\n",
    "type(s)"
   ],
   "id": "2fb5a3c669271f2e",
   "outputs": [
    {
     "data": {
      "text/plain": [
       "str"
      ]
     },
     "execution_count": 25,
     "metadata": {},
     "output_type": "execute_result"
    }
   ],
   "execution_count": 25
  },
  {
   "metadata": {
    "ExecuteTime": {
     "end_time": "2025-04-11T16:35:33.234330Z",
     "start_time": "2025-04-11T16:35:33.230904Z"
    }
   },
   "cell_type": "code",
   "source": "s",
   "id": "49958d509cd1b0d0",
   "outputs": [
    {
     "data": {
      "text/plain": [
       "'{\"name\": \"Anurag\", \"age\": 22, \"grade\": \"A\", \"address\": \"Vrindavan\", \"Hello\": \"World\"}'"
      ]
     },
     "execution_count": 26,
     "metadata": {},
     "output_type": "execute_result"
    }
   ],
   "execution_count": 26
  },
  {
   "metadata": {
    "ExecuteTime": {
     "end_time": "2025-04-11T16:35:33.657787Z",
     "start_time": "2025-04-11T16:35:33.654781Z"
    }
   },
   "cell_type": "code",
   "source": [
    "d = json.loads(s)\n",
    "type(d)"
   ],
   "id": "159a7a4e16bf02fa",
   "outputs": [
    {
     "data": {
      "text/plain": [
       "dict"
      ]
     },
     "execution_count": 27,
     "metadata": {},
     "output_type": "execute_result"
    }
   ],
   "execution_count": 27
  },
  {
   "metadata": {
    "ExecuteTime": {
     "end_time": "2025-04-11T16:35:34.130595Z",
     "start_time": "2025-04-11T16:35:34.126915Z"
    }
   },
   "cell_type": "code",
   "source": "d",
   "id": "da08a1994c1ed939",
   "outputs": [
    {
     "data": {
      "text/plain": [
       "{'name': 'Anurag',\n",
       " 'age': 22,\n",
       " 'grade': 'A',\n",
       " 'address': 'Vrindavan',\n",
       " 'Hello': 'World'}"
      ]
     },
     "execution_count": 28,
     "metadata": {},
     "output_type": "execute_result"
    }
   ],
   "execution_count": 28
  },
  {
   "metadata": {
    "ExecuteTime": {
     "end_time": "2025-04-11T16:40:23.292831Z",
     "start_time": "2025-04-11T16:40:23.276655Z"
    }
   },
   "cell_type": "code",
   "source": [
    "file = open('file2.json', 'w')\n",
    "json.dump(details, file)\n",
    "file.close()"
   ],
   "id": "58da28e5a7f505bb",
   "outputs": [],
   "execution_count": 30
  },
  {
   "metadata": {},
   "cell_type": "code",
   "outputs": [],
   "execution_count": null,
   "source": "# and many more ... read docs...",
   "id": "f90c47c409bdb026"
  }
 ],
 "metadata": {
  "kernelspec": {
   "name": "python3",
   "language": "python",
   "display_name": "Python 3 (ipykernel)"
  }
 },
 "nbformat": 5,
 "nbformat_minor": 9
}
