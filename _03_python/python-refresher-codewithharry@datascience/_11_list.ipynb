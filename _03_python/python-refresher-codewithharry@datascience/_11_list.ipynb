{
 "cells": [
  {
   "metadata": {
    "ExecuteTime": {
     "end_time": "2025-04-11T04:02:08.326809Z",
     "start_time": "2025-04-11T04:02:08.324084Z"
    }
   },
   "cell_type": "code",
   "source": "l: list[int] = [3, 5, 23, 4]",
   "id": "a699041f46a695a0",
   "outputs": [],
   "execution_count": 193
  },
  {
   "metadata": {
    "ExecuteTime": {
     "end_time": "2025-04-11T04:02:08.348296Z",
     "start_time": "2025-04-11T04:02:08.345577Z"
    }
   },
   "cell_type": "code",
   "source": "l",
   "id": "72e5e1a888ee5f53",
   "outputs": [
    {
     "data": {
      "text/plain": [
       "[3, 5, 23, 4]"
      ]
     },
     "execution_count": 194,
     "metadata": {},
     "output_type": "execute_result"
    }
   ],
   "execution_count": 194
  },
  {
   "metadata": {
    "ExecuteTime": {
     "end_time": "2025-04-11T04:02:08.370938Z",
     "start_time": "2025-04-11T04:02:08.368294Z"
    }
   },
   "cell_type": "code",
   "source": "l[1]",
   "id": "c9114376c2579216",
   "outputs": [
    {
     "data": {
      "text/plain": [
       "5"
      ]
     },
     "execution_count": 195,
     "metadata": {},
     "output_type": "execute_result"
    }
   ],
   "execution_count": 195
  },
  {
   "metadata": {
    "ExecuteTime": {
     "end_time": "2025-04-11T04:02:08.399303Z",
     "start_time": "2025-04-11T04:02:08.396719Z"
    }
   },
   "cell_type": "code",
   "source": "l[0] = 111",
   "id": "19fc45e4bf47f36a",
   "outputs": [],
   "execution_count": 196
  },
  {
   "metadata": {
    "ExecuteTime": {
     "end_time": "2025-04-11T04:02:08.417234Z",
     "start_time": "2025-04-11T04:02:08.414095Z"
    }
   },
   "cell_type": "code",
   "source": "l",
   "id": "df9139af8b6a5419",
   "outputs": [
    {
     "data": {
      "text/plain": [
       "[111, 5, 23, 4]"
      ]
     },
     "execution_count": 197,
     "metadata": {},
     "output_type": "execute_result"
    }
   ],
   "execution_count": 197
  },
  {
   "metadata": {
    "ExecuteTime": {
     "end_time": "2025-04-11T04:02:08.449674Z",
     "start_time": "2025-04-11T04:02:08.447397Z"
    }
   },
   "cell_type": "code",
   "source": "l.append(90)",
   "id": "bccb8f6deccc8001",
   "outputs": [],
   "execution_count": 198
  },
  {
   "metadata": {
    "ExecuteTime": {
     "end_time": "2025-04-11T04:02:08.460849Z",
     "start_time": "2025-04-11T04:02:08.458170Z"
    }
   },
   "cell_type": "code",
   "source": "l",
   "id": "66dcb8802363406f",
   "outputs": [
    {
     "data": {
      "text/plain": [
       "[111, 5, 23, 4, 90]"
      ]
     },
     "execution_count": 199,
     "metadata": {},
     "output_type": "execute_result"
    }
   ],
   "execution_count": 199
  },
  {
   "metadata": {
    "ExecuteTime": {
     "end_time": "2025-04-11T04:02:08.481124Z",
     "start_time": "2025-04-11T04:02:08.478759Z"
    }
   },
   "cell_type": "code",
   "source": "l.extend([1,2,3,4,5])",
   "id": "c695168ca2f09d53",
   "outputs": [],
   "execution_count": 200
  },
  {
   "metadata": {
    "ExecuteTime": {
     "end_time": "2025-04-11T04:02:08.491433Z",
     "start_time": "2025-04-11T04:02:08.488813Z"
    }
   },
   "cell_type": "code",
   "source": "l",
   "id": "5e1d2e7980647fb4",
   "outputs": [
    {
     "data": {
      "text/plain": [
       "[111, 5, 23, 4, 90, 1, 2, 3, 4, 5]"
      ]
     },
     "execution_count": 201,
     "metadata": {},
     "output_type": "execute_result"
    }
   ],
   "execution_count": 201
  },
  {
   "metadata": {
    "ExecuteTime": {
     "end_time": "2025-04-11T04:02:08.517473Z",
     "start_time": "2025-04-11T04:02:08.515183Z"
    }
   },
   "cell_type": "code",
   "source": "l.insert(1, 200)",
   "id": "2950198c4afaffa1",
   "outputs": [],
   "execution_count": 202
  },
  {
   "metadata": {
    "ExecuteTime": {
     "end_time": "2025-04-11T04:02:08.533564Z",
     "start_time": "2025-04-11T04:02:08.530655Z"
    }
   },
   "cell_type": "code",
   "source": "l",
   "id": "3086d8b06b6f1da4",
   "outputs": [
    {
     "data": {
      "text/plain": [
       "[111, 200, 5, 23, 4, 90, 1, 2, 3, 4, 5]"
      ]
     },
     "execution_count": 203,
     "metadata": {},
     "output_type": "execute_result"
    }
   ],
   "execution_count": 203
  },
  {
   "metadata": {
    "ExecuteTime": {
     "end_time": "2025-04-11T04:02:08.565054Z",
     "start_time": "2025-04-11T04:02:08.562506Z"
    }
   },
   "cell_type": "code",
   "source": "l.pop(2)",
   "id": "4bd9dd494c943fa",
   "outputs": [
    {
     "data": {
      "text/plain": [
       "5"
      ]
     },
     "execution_count": 204,
     "metadata": {},
     "output_type": "execute_result"
    }
   ],
   "execution_count": 204
  },
  {
   "metadata": {
    "ExecuteTime": {
     "end_time": "2025-04-11T04:02:08.596309Z",
     "start_time": "2025-04-11T04:02:08.593860Z"
    }
   },
   "cell_type": "code",
   "source": "l",
   "id": "69cd62ef83ca32f6",
   "outputs": [
    {
     "data": {
      "text/plain": [
       "[111, 200, 23, 4, 90, 1, 2, 3, 4, 5]"
      ]
     },
     "execution_count": 205,
     "metadata": {},
     "output_type": "execute_result"
    }
   ],
   "execution_count": 205
  },
  {
   "metadata": {
    "ExecuteTime": {
     "end_time": "2025-04-11T04:02:08.621002Z",
     "start_time": "2025-04-11T04:02:08.617970Z"
    }
   },
   "cell_type": "code",
   "source": "l.index(4)",
   "id": "82b166cab294cfa3",
   "outputs": [
    {
     "data": {
      "text/plain": [
       "3"
      ]
     },
     "execution_count": 206,
     "metadata": {},
     "output_type": "execute_result"
    }
   ],
   "execution_count": 206
  },
  {
   "metadata": {
    "ExecuteTime": {
     "end_time": "2025-04-11T04:02:08.654154Z",
     "start_time": "2025-04-11T04:02:08.651780Z"
    }
   },
   "cell_type": "code",
   "source": "l.append(111)",
   "id": "869ef004d760b52",
   "outputs": [],
   "execution_count": 207
  },
  {
   "metadata": {
    "ExecuteTime": {
     "end_time": "2025-04-11T04:02:08.671505Z",
     "start_time": "2025-04-11T04:02:08.668996Z"
    }
   },
   "cell_type": "code",
   "source": "l.count(111)",
   "id": "6943d2a6e3868e28",
   "outputs": [
    {
     "data": {
      "text/plain": [
       "2"
      ]
     },
     "execution_count": 208,
     "metadata": {},
     "output_type": "execute_result"
    }
   ],
   "execution_count": 208
  },
  {
   "metadata": {
    "ExecuteTime": {
     "end_time": "2025-04-11T04:02:08.692655Z",
     "start_time": "2025-04-11T04:02:08.690721Z"
    }
   },
   "cell_type": "code",
   "source": "l.sort() # Will change the list in place",
   "id": "4c7d0b9e8079930e",
   "outputs": [],
   "execution_count": 209
  },
  {
   "metadata": {
    "ExecuteTime": {
     "end_time": "2025-04-11T04:02:08.713007Z",
     "start_time": "2025-04-11T04:02:08.710079Z"
    }
   },
   "cell_type": "code",
   "source": "l",
   "id": "44f223422cbe27ba",
   "outputs": [
    {
     "data": {
      "text/plain": [
       "[1, 2, 3, 4, 4, 5, 23, 90, 111, 111, 200]"
      ]
     },
     "execution_count": 210,
     "metadata": {},
     "output_type": "execute_result"
    }
   ],
   "execution_count": 210
  },
  {
   "metadata": {
    "ExecuteTime": {
     "end_time": "2025-04-11T04:02:08.744011Z",
     "start_time": "2025-04-11T04:02:08.741580Z"
    }
   },
   "cell_type": "code",
   "source": "l1 = [1,6,2,33,9,6]",
   "id": "9c90e69a19d71333",
   "outputs": [],
   "execution_count": 211
  },
  {
   "metadata": {
    "ExecuteTime": {
     "end_time": "2025-04-11T04:02:08.760731Z",
     "start_time": "2025-04-11T04:02:08.758259Z"
    }
   },
   "cell_type": "code",
   "source": "l2 = sorted(l1) # Will return the new list",
   "id": "e2b9a9e8293510cc",
   "outputs": [],
   "execution_count": 212
  },
  {
   "metadata": {
    "ExecuteTime": {
     "end_time": "2025-04-11T04:02:08.768763Z",
     "start_time": "2025-04-11T04:02:08.765970Z"
    }
   },
   "cell_type": "code",
   "source": "l1, l2",
   "id": "abd6637345cb1488",
   "outputs": [
    {
     "data": {
      "text/plain": [
       "([1, 6, 2, 33, 9, 6], [1, 2, 6, 6, 9, 33])"
      ]
     },
     "execution_count": 213,
     "metadata": {},
     "output_type": "execute_result"
    }
   ],
   "execution_count": 213
  },
  {
   "metadata": {
    "ExecuteTime": {
     "end_time": "2025-04-11T04:02:08.793783Z",
     "start_time": "2025-04-11T04:02:08.791691Z"
    }
   },
   "cell_type": "code",
   "source": "l1.reverse()",
   "id": "55d813749a74768b",
   "outputs": [],
   "execution_count": 214
  },
  {
   "metadata": {
    "ExecuteTime": {
     "end_time": "2025-04-11T04:02:08.823908Z",
     "start_time": "2025-04-11T04:02:08.821074Z"
    }
   },
   "cell_type": "code",
   "source": "l1",
   "id": "add8ddd47d61cb84",
   "outputs": [
    {
     "data": {
      "text/plain": [
       "[6, 9, 33, 2, 6, 1]"
      ]
     },
     "execution_count": 215,
     "metadata": {},
     "output_type": "execute_result"
    }
   ],
   "execution_count": 215
  },
  {
   "metadata": {
    "ExecuteTime": {
     "end_time": "2025-04-11T04:02:08.859524Z",
     "start_time": "2025-04-11T04:02:08.856138Z"
    }
   },
   "cell_type": "code",
   "source": [
    "a: list[int] = [1,2,3]\n",
    "b: list[int] = [4,5,6]\n",
    "c = a + b\n",
    "c"
   ],
   "id": "287ec5810bd7fdb3",
   "outputs": [
    {
     "data": {
      "text/plain": [
       "[1, 2, 3, 4, 5, 6]"
      ]
     },
     "execution_count": 216,
     "metadata": {},
     "output_type": "execute_result"
    }
   ],
   "execution_count": 216
  },
  {
   "metadata": {
    "ExecuteTime": {
     "end_time": "2025-04-11T04:04:43.672591Z",
     "start_time": "2025-04-11T04:04:43.663320Z"
    }
   },
   "cell_type": "code",
   "source": [
    "d = [1, 'Anurag', \"C\", 4.843, 5+8j, [1,2,3]]\n",
    "d"
   ],
   "id": "99ccb6d0bf515c34",
   "outputs": [
    {
     "data": {
      "text/plain": [
       "[1, 'Anurag', 'C', 4.843, (5+8j), [1, 2, 3]]"
      ]
     },
     "execution_count": 230,
     "metadata": {},
     "output_type": "execute_result"
    }
   ],
   "execution_count": 230
  },
  {
   "metadata": {
    "ExecuteTime": {
     "end_time": "2025-04-11T04:02:58.130354Z",
     "start_time": "2025-04-11T04:02:58.122059Z"
    }
   },
   "cell_type": "code",
   "source": "e = a",
   "id": "6c52703e40e11b50",
   "outputs": [],
   "execution_count": 219
  },
  {
   "metadata": {
    "ExecuteTime": {
     "end_time": "2025-04-11T04:03:05.479779Z",
     "start_time": "2025-04-11T04:03:05.476648Z"
    }
   },
   "cell_type": "code",
   "source": "e.append(4)",
   "id": "2eb6d2ee1d0aa847",
   "outputs": [],
   "execution_count": 220
  },
  {
   "metadata": {
    "ExecuteTime": {
     "end_time": "2025-04-11T04:03:06.868883Z",
     "start_time": "2025-04-11T04:03:06.863217Z"
    }
   },
   "cell_type": "code",
   "source": "e",
   "id": "d0772258a19f271",
   "outputs": [
    {
     "data": {
      "text/plain": [
       "[1, 2, 3, 4]"
      ]
     },
     "execution_count": 221,
     "metadata": {},
     "output_type": "execute_result"
    }
   ],
   "execution_count": 221
  },
  {
   "metadata": {
    "ExecuteTime": {
     "end_time": "2025-04-11T04:03:07.708666Z",
     "start_time": "2025-04-11T04:03:07.704986Z"
    }
   },
   "cell_type": "code",
   "source": "a",
   "id": "3f0f86936e5c9366",
   "outputs": [
    {
     "data": {
      "text/plain": [
       "[1, 2, 3, 4]"
      ]
     },
     "execution_count": 222,
     "metadata": {},
     "output_type": "execute_result"
    }
   ],
   "execution_count": 222
  },
  {
   "metadata": {
    "ExecuteTime": {
     "end_time": "2025-04-11T04:03:22.307987Z",
     "start_time": "2025-04-11T04:03:22.304484Z"
    }
   },
   "cell_type": "code",
   "source": "e = a.copy()",
   "id": "ec8682f0d3ac3cff",
   "outputs": [],
   "execution_count": 223
  },
  {
   "metadata": {
    "ExecuteTime": {
     "end_time": "2025-04-11T04:03:27.477811Z",
     "start_time": "2025-04-11T04:03:27.472544Z"
    }
   },
   "cell_type": "code",
   "source": "e.append(4)",
   "id": "3ea814b20a62905",
   "outputs": [],
   "execution_count": 224
  },
  {
   "metadata": {
    "ExecuteTime": {
     "end_time": "2025-04-11T04:03:28.529837Z",
     "start_time": "2025-04-11T04:03:28.525902Z"
    }
   },
   "cell_type": "code",
   "source": "e",
   "id": "c2135ab5fb311962",
   "outputs": [
    {
     "data": {
      "text/plain": [
       "[1, 2, 3, 4, 4]"
      ]
     },
     "execution_count": 225,
     "metadata": {},
     "output_type": "execute_result"
    }
   ],
   "execution_count": 225
  },
  {
   "metadata": {
    "ExecuteTime": {
     "end_time": "2025-04-11T04:03:29.977555Z",
     "start_time": "2025-04-11T04:03:29.973933Z"
    }
   },
   "cell_type": "code",
   "source": "a",
   "id": "8b3763d8caa0b5ab",
   "outputs": [
    {
     "data": {
      "text/plain": [
       "[1, 2, 3, 4]"
      ]
     },
     "execution_count": 226,
     "metadata": {},
     "output_type": "execute_result"
    }
   ],
   "execution_count": 226
  },
  {
   "metadata": {
    "ExecuteTime": {
     "end_time": "2025-04-11T04:03:50.303744Z",
     "start_time": "2025-04-11T04:03:50.292281Z"
    }
   },
   "cell_type": "code",
   "source": "a.clear()",
   "id": "986aa8c2f68e78a6",
   "outputs": [],
   "execution_count": 227
  },
  {
   "metadata": {
    "ExecuteTime": {
     "end_time": "2025-04-11T04:03:51.211461Z",
     "start_time": "2025-04-11T04:03:51.206704Z"
    }
   },
   "cell_type": "code",
   "source": "a",
   "id": "589276b1306d6564",
   "outputs": [
    {
     "data": {
      "text/plain": [
       "[]"
      ]
     },
     "execution_count": 228,
     "metadata": {},
     "output_type": "execute_result"
    }
   ],
   "execution_count": 228
  },
  {
   "metadata": {
    "ExecuteTime": {
     "end_time": "2025-04-11T04:04:26.063275Z",
     "start_time": "2025-04-11T04:04:26.055162Z"
    }
   },
   "cell_type": "code",
   "source": "d[4]",
   "id": "9dd462f3e9399dd9",
   "outputs": [
    {
     "data": {
      "text/plain": [
       "(5+8j)"
      ]
     },
     "execution_count": 229,
     "metadata": {},
     "output_type": "execute_result"
    }
   ],
   "execution_count": 229
  },
  {
   "metadata": {
    "ExecuteTime": {
     "end_time": "2025-04-11T04:04:50.331981Z",
     "start_time": "2025-04-11T04:04:50.327989Z"
    }
   },
   "cell_type": "code",
   "source": "d[-1][0]",
   "id": "284b9f8234ed3cdc",
   "outputs": [
    {
     "data": {
      "text/plain": [
       "1"
      ]
     },
     "execution_count": 231,
     "metadata": {},
     "output_type": "execute_result"
    }
   ],
   "execution_count": 231
  },
  {
   "metadata": {
    "ExecuteTime": {
     "end_time": "2025-04-11T04:06:21.177638Z",
     "start_time": "2025-04-11T04:06:21.168906Z"
    }
   },
   "cell_type": "code",
   "source": [
    "if 33 in d:\n",
    "    print(\"Yes\")\n",
    "else:\n",
    "    print(\"No\")"
   ],
   "id": "56e28c5bc7884b3e",
   "outputs": [
    {
     "name": "stdout",
     "output_type": "stream",
     "text": [
      "No\n"
     ]
    }
   ],
   "execution_count": 232
  },
  {
   "metadata": {
    "ExecuteTime": {
     "end_time": "2025-04-11T04:07:22.136571Z",
     "start_time": "2025-04-11T04:07:22.133573Z"
    }
   },
   "cell_type": "code",
   "source": [
    "k: str = \"1-2-3-4-5\"\n",
    "k: list[str] = k.split(\"-\")\n",
    "k"
   ],
   "id": "2f2b694188d20eef",
   "outputs": [
    {
     "data": {
      "text/plain": [
       "['1', '2', '3', '4', '5']"
      ]
     },
     "execution_count": 235,
     "metadata": {},
     "output_type": "execute_result"
    }
   ],
   "execution_count": 235
  },
  {
   "metadata": {},
   "cell_type": "code",
   "outputs": [],
   "execution_count": null,
   "source": "",
   "id": "4731847f81f3d551"
  }
 ],
 "metadata": {
  "kernelspec": {
   "name": "python3",
   "language": "python",
   "display_name": "Python 3 (ipykernel)"
  }
 },
 "nbformat": 5,
 "nbformat_minor": 9
}
