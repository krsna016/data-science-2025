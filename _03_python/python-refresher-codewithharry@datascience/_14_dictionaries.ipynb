{
 "cells": [
  {
   "metadata": {
    "ExecuteTime": {
     "end_time": "2025-04-11T16:10:05.670581Z",
     "start_time": "2025-04-11T16:10:05.666795Z"
    }
   },
   "cell_type": "code",
   "source": "# Dictionaries beyond py-3.7 is unordered and after it is ordered",
   "id": "eae7f3538334faaa",
   "outputs": [],
   "execution_count": 1
  },
  {
   "metadata": {
    "ExecuteTime": {
     "end_time": "2025-04-11T16:12:23.725348Z",
     "start_time": "2025-04-11T16:12:23.721286Z"
    }
   },
   "cell_type": "code",
   "source": [
    "from typing import Any\n",
    "k: dict = {}\n",
    "type(k)"
   ],
   "id": "1c00f19241061fca",
   "outputs": [
    {
     "data": {
      "text/plain": [
       "dict"
      ]
     },
     "execution_count": 5,
     "metadata": {},
     "output_type": "execute_result"
    }
   ],
   "execution_count": 5
  },
  {
   "metadata": {
    "ExecuteTime": {
     "end_time": "2025-04-11T16:12:23.898444Z",
     "start_time": "2025-04-11T16:12:23.895737Z"
    }
   },
   "cell_type": "code",
   "source": [
    "student: dict[str ,Any] = {\n",
    "    'name': 'alice',\n",
    "    'age' : 25,\n",
    "    'grade' : 'A'\n",
    "}"
   ],
   "id": "6a0cb9d046e0fa68",
   "outputs": [],
   "execution_count": 6
  },
  {
   "metadata": {
    "ExecuteTime": {
     "end_time": "2025-04-11T16:12:24.087533Z",
     "start_time": "2025-04-11T16:12:24.083907Z"
    }
   },
   "cell_type": "code",
   "source": "student['name']",
   "id": "ae878dea3c3efd03",
   "outputs": [
    {
     "data": {
      "text/plain": [
       "'alice'"
      ]
     },
     "execution_count": 7,
     "metadata": {},
     "output_type": "execute_result"
    }
   ],
   "execution_count": 7
  },
  {
   "metadata": {
    "ExecuteTime": {
     "end_time": "2025-04-11T16:13:15.014039Z",
     "start_time": "2025-04-11T16:13:14.986751Z"
    }
   },
   "cell_type": "code",
   "source": "student['name4'] # Will give error when element not founded",
   "id": "381c07a75988de80",
   "outputs": [
    {
     "ename": "KeyError",
     "evalue": "'name4'",
     "output_type": "error",
     "traceback": [
      "\u001B[0;31m---------------------------------------------------------------------------\u001B[0m",
      "\u001B[0;31mKeyError\u001B[0m                                  Traceback (most recent call last)",
      "Cell \u001B[0;32mIn[8], line 1\u001B[0m\n\u001B[0;32m----> 1\u001B[0m student[\u001B[38;5;124m'\u001B[39m\u001B[38;5;124mname4\u001B[39m\u001B[38;5;124m'\u001B[39m]\n",
      "\u001B[0;31mKeyError\u001B[0m: 'name4'"
     ]
    }
   ],
   "execution_count": 8
  },
  {
   "metadata": {
    "ExecuteTime": {
     "end_time": "2025-04-11T16:14:01.615127Z",
     "start_time": "2025-04-11T16:14:01.605257Z"
    }
   },
   "cell_type": "code",
   "source": "student.get('name4') # Will give None (Jupyter gives nothing for None) when element not founded",
   "id": "d9c23f28691362e0",
   "outputs": [],
   "execution_count": 10
  },
  {
   "metadata": {
    "ExecuteTime": {
     "end_time": "2025-04-11T16:14:48.026423Z",
     "start_time": "2025-04-11T16:14:48.019408Z"
    }
   },
   "cell_type": "code",
   "source": "student['age']",
   "id": "6f754dcf6132c922",
   "outputs": [
    {
     "data": {
      "text/plain": [
       "25"
      ]
     },
     "execution_count": 11,
     "metadata": {},
     "output_type": "execute_result"
    }
   ],
   "execution_count": 11
  },
  {
   "metadata": {
    "ExecuteTime": {
     "end_time": "2025-04-11T16:14:55.283347Z",
     "start_time": "2025-04-11T16:14:55.279896Z"
    }
   },
   "cell_type": "code",
   "source": "student['age'] = 30",
   "id": "c6d08e94b0ff079d",
   "outputs": [],
   "execution_count": 12
  },
  {
   "metadata": {
    "ExecuteTime": {
     "end_time": "2025-04-11T16:15:06.510935Z",
     "start_time": "2025-04-11T16:15:06.506120Z"
    }
   },
   "cell_type": "code",
   "source": "student['age']",
   "id": "e8efb0aa727a0075",
   "outputs": [
    {
     "data": {
      "text/plain": [
       "30"
      ]
     },
     "execution_count": 13,
     "metadata": {},
     "output_type": "execute_result"
    }
   ],
   "execution_count": 13
  },
  {
   "metadata": {
    "ExecuteTime": {
     "end_time": "2025-04-11T16:15:13.697435Z",
     "start_time": "2025-04-11T16:15:13.689882Z"
    }
   },
   "cell_type": "code",
   "source": "student.keys()",
   "id": "7adf1f6166c3147d",
   "outputs": [
    {
     "data": {
      "text/plain": [
       "dict_keys(['name', 'age', 'grade'])"
      ]
     },
     "execution_count": 14,
     "metadata": {},
     "output_type": "execute_result"
    }
   ],
   "execution_count": 14
  },
  {
   "metadata": {
    "ExecuteTime": {
     "end_time": "2025-04-11T16:15:18.596965Z",
     "start_time": "2025-04-11T16:15:18.592155Z"
    }
   },
   "cell_type": "code",
   "source": "student.values()",
   "id": "4c4a8df56058e0bb",
   "outputs": [
    {
     "data": {
      "text/plain": [
       "dict_values(['alice', 30, 'A'])"
      ]
     },
     "execution_count": 15,
     "metadata": {},
     "output_type": "execute_result"
    }
   ],
   "execution_count": 15
  },
  {
   "metadata": {
    "ExecuteTime": {
     "end_time": "2025-04-11T16:15:48.825890Z",
     "start_time": "2025-04-11T16:15:48.820147Z"
    }
   },
   "cell_type": "code",
   "source": "student.items()",
   "id": "f821ff277efc5d82",
   "outputs": [
    {
     "data": {
      "text/plain": [
       "dict_items([('name', 'alice'), ('age', 30), ('grade', 'A')])"
      ]
     },
     "execution_count": 18,
     "metadata": {},
     "output_type": "execute_result"
    }
   ],
   "execution_count": 18
  },
  {
   "metadata": {
    "ExecuteTime": {
     "end_time": "2025-04-11T16:16:13.703002Z",
     "start_time": "2025-04-11T16:16:13.697412Z"
    }
   },
   "cell_type": "code",
   "source": "student.update({'address': 'Vrindavan'})",
   "id": "cfe680171e8e99c5",
   "outputs": [],
   "execution_count": 19
  },
  {
   "metadata": {
    "ExecuteTime": {
     "end_time": "2025-04-11T16:16:15.524058Z",
     "start_time": "2025-04-11T16:16:15.519169Z"
    }
   },
   "cell_type": "code",
   "source": "student",
   "id": "87ab966959cfcefa",
   "outputs": [
    {
     "data": {
      "text/plain": [
       "{'name': 'alice', 'age': 30, 'grade': 'A', 'address': 'Vrindavan'}"
      ]
     },
     "execution_count": 20,
     "metadata": {},
     "output_type": "execute_result"
    }
   ],
   "execution_count": 20
  },
  {
   "metadata": {
    "ExecuteTime": {
     "end_time": "2025-04-11T16:16:49.345208Z",
     "start_time": "2025-04-11T16:16:49.341673Z"
    }
   },
   "cell_type": "code",
   "source": [
    "student['name'] = 'Anurag'\n",
    "student['age'] = 22"
   ],
   "id": "4e194f77c1ddab10",
   "outputs": [],
   "execution_count": 23
  },
  {
   "metadata": {
    "ExecuteTime": {
     "end_time": "2025-04-11T16:16:49.481413Z",
     "start_time": "2025-04-11T16:16:49.476261Z"
    }
   },
   "cell_type": "code",
   "source": "student",
   "id": "77feebd5cf492372",
   "outputs": [
    {
     "data": {
      "text/plain": [
       "{'name': 'Anurag', 'age': 22, 'grade': 'A', 'address': 'Vrindavan'}"
      ]
     },
     "execution_count": 24,
     "metadata": {},
     "output_type": "execute_result"
    }
   ],
   "execution_count": 24
  },
  {
   "metadata": {
    "ExecuteTime": {
     "end_time": "2025-04-11T16:19:26.145695Z",
     "start_time": "2025-04-11T16:19:26.139588Z"
    }
   },
   "cell_type": "code",
   "source": "student.setdefault('Hello', 'World')",
   "id": "a960f22b2f5b0950",
   "outputs": [
    {
     "data": {
      "text/plain": [
       "'World'"
      ]
     },
     "execution_count": 25,
     "metadata": {},
     "output_type": "execute_result"
    }
   ],
   "execution_count": 25
  },
  {
   "metadata": {
    "ExecuteTime": {
     "end_time": "2025-04-11T16:19:27.970900Z",
     "start_time": "2025-04-11T16:19:27.966174Z"
    }
   },
   "cell_type": "code",
   "source": "student",
   "id": "e725a785d26f2572",
   "outputs": [
    {
     "data": {
      "text/plain": [
       "{'name': 'Anurag',\n",
       " 'age': 22,\n",
       " 'grade': 'A',\n",
       " 'address': 'Vrindavan',\n",
       " 'Hello': 'World'}"
      ]
     },
     "execution_count": 26,
     "metadata": {},
     "output_type": "execute_result"
    }
   ],
   "execution_count": 26
  },
  {
   "metadata": {},
   "cell_type": "code",
   "outputs": [],
   "execution_count": null,
   "source": "",
   "id": "2ee1f9466daa4295"
  }
 ],
 "metadata": {
  "kernelspec": {
   "name": "python3",
   "language": "python",
   "display_name": "Python 3 (ipykernel)"
  }
 },
 "nbformat": 5,
 "nbformat_minor": 9
}
