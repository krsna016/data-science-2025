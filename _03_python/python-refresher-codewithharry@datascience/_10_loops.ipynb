{
 "cells": [
  {
   "metadata": {
    "ExecuteTime": {
     "end_time": "2025-04-11T00:29:24.064534Z",
     "start_time": "2025-04-11T00:29:24.061454Z"
    }
   },
   "cell_type": "code",
   "source": [
    "from pyparsing import countedArray\n",
    "\n",
    "lst: list[int] = [3, 4, 6, 1]"
   ],
   "id": "55760264dd28038a",
   "outputs": [],
   "execution_count": 1
  },
  {
   "metadata": {
    "ExecuteTime": {
     "end_time": "2025-04-11T00:29:28.501925Z",
     "start_time": "2025-04-11T00:29:28.499267Z"
    }
   },
   "cell_type": "code",
   "source": [
    "for i in lst:\n",
    "    print(i)"
   ],
   "id": "399134904359bcd1",
   "outputs": [
    {
     "name": "stdout",
     "output_type": "stream",
     "text": [
      "3\n",
      "4\n",
      "6\n",
      "1\n"
     ]
    }
   ],
   "execution_count": 2
  },
  {
   "metadata": {
    "ExecuteTime": {
     "end_time": "2025-04-11T00:29:38.443853Z",
     "start_time": "2025-04-11T00:29:38.440259Z"
    }
   },
   "cell_type": "code",
   "source": [
    "for i in range(11):\n",
    "    print(i)"
   ],
   "id": "1abd09a369602561",
   "outputs": [
    {
     "name": "stdout",
     "output_type": "stream",
     "text": [
      "0\n",
      "1\n",
      "2\n",
      "3\n",
      "4\n",
      "5\n",
      "6\n",
      "7\n",
      "8\n",
      "9\n",
      "10\n"
     ]
    }
   ],
   "execution_count": 3
  },
  {
   "metadata": {
    "ExecuteTime": {
     "end_time": "2025-04-11T00:31:26.509966Z",
     "start_time": "2025-04-11T00:31:26.507337Z"
    }
   },
   "cell_type": "code",
   "outputs": [
    {
     "name": "stdout",
     "output_type": "stream",
     "text": [
      "5\n",
      "6\n",
      "7\n",
      "8\n",
      "9\n",
      "10\n"
     ]
    }
   ],
   "execution_count": 7,
   "source": [
    "count: int = 5\n",
    "while count <= 10:\n",
    "    print(count)\n",
    "    count += 1"
   ],
   "id": "11b52c0fb52e9f10"
  },
  {
   "metadata": {
    "ExecuteTime": {
     "end_time": "2025-04-11T00:32:06.037038Z",
     "start_time": "2025-04-11T00:32:06.030929Z"
    }
   },
   "cell_type": "code",
   "source": [
    "count: int = 5\n",
    "while count <= 10:\n",
    "    print(count)\n",
    "    if count == 8:\n",
    "        break\n",
    "    count += 1"
   ],
   "id": "3adf8e17566d01",
   "outputs": [
    {
     "name": "stdout",
     "output_type": "stream",
     "text": [
      "5\n",
      "6\n",
      "7\n",
      "8\n"
     ]
    }
   ],
   "execution_count": 9
  },
  {
   "metadata": {
    "ExecuteTime": {
     "end_time": "2025-04-11T00:33:02.220239Z",
     "start_time": "2025-04-11T00:33:02.214976Z"
    }
   },
   "cell_type": "code",
   "source": [
    "for i in range(1, 11):\n",
    "    if i == 8:\n",
    "        continue\n",
    "    else:\n",
    "        print(i)"
   ],
   "id": "65bc86a70ea1137a",
   "outputs": [
    {
     "name": "stdout",
     "output_type": "stream",
     "text": [
      "1\n",
      "2\n",
      "3\n",
      "4\n",
      "5\n",
      "6\n",
      "7\n",
      "9\n",
      "10\n"
     ]
    }
   ],
   "execution_count": 10
  },
  {
   "metadata": {
    "ExecuteTime": {
     "end_time": "2025-04-11T00:34:55.696284Z",
     "start_time": "2025-04-11T00:34:55.686092Z"
    }
   },
   "cell_type": "code",
   "source": [
    "for i in range(1, 11):\n",
    "    pass\n",
    "print(\"Hello!!\")"
   ],
   "id": "f1e8e76d33b07264",
   "outputs": [
    {
     "name": "stdout",
     "output_type": "stream",
     "text": [
      "Hello!!\n"
     ]
    }
   ],
   "execution_count": 16
  },
  {
   "metadata": {},
   "cell_type": "code",
   "outputs": [],
   "execution_count": null,
   "source": "",
   "id": "2db9314565eb7216"
  }
 ],
 "metadata": {
  "kernelspec": {
   "name": "python3",
   "language": "python",
   "display_name": "Python 3 (ipykernel)"
  }
 },
 "nbformat": 5,
 "nbformat_minor": 9
}
