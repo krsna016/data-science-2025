{
 "cells": [
  {
   "metadata": {
    "ExecuteTime": {
     "end_time": "2025-04-11T14:50:08.224327Z",
     "start_time": "2025-04-11T14:50:08.215215Z"
    }
   },
   "cell_type": "code",
   "source": [
    "k: set = {1,\"Hello\",(1,2,3),1,2,4}\n",
    "type(k)"
   ],
   "id": "9a428640fd8405e8",
   "outputs": [
    {
     "data": {
      "text/plain": [
       "set"
      ]
     },
     "execution_count": 7,
     "metadata": {},
     "output_type": "execute_result"
    }
   ],
   "execution_count": 7
  },
  {
   "metadata": {
    "ExecuteTime": {
     "end_time": "2025-04-11T14:50:11.058678Z",
     "start_time": "2025-04-11T14:50:11.053739Z"
    }
   },
   "cell_type": "code",
   "source": "k",
   "id": "f755fcb5d8b7041e",
   "outputs": [
    {
     "data": {
      "text/plain": [
       "{(1, 2, 3), 1, 2, 4, 'Hello'}"
      ]
     },
     "execution_count": 8,
     "metadata": {},
     "output_type": "execute_result"
    }
   ],
   "execution_count": 8
  },
  {
   "metadata": {
    "ExecuteTime": {
     "end_time": "2025-04-11T14:51:49.846134Z",
     "start_time": "2025-04-11T14:51:49.840427Z"
    }
   },
   "cell_type": "code",
   "source": [
    "unique_ele: set = set([1,2,2,3,4,4,5,5,5])\n",
    "print(unique_ele)"
   ],
   "id": "396b5b49dc14b933",
   "outputs": [
    {
     "name": "stdout",
     "output_type": "stream",
     "text": [
      "{1, 2, 3, 4, 5}\n"
     ]
    }
   ],
   "execution_count": 10
  },
  {
   "metadata": {
    "ExecuteTime": {
     "end_time": "2025-04-11T14:52:25.319148Z",
     "start_time": "2025-04-11T14:52:25.316502Z"
    }
   },
   "cell_type": "code",
   "source": "unique_ele.add(34)",
   "id": "ef1e194c594858fe",
   "outputs": [],
   "execution_count": 11
  },
  {
   "metadata": {
    "ExecuteTime": {
     "end_time": "2025-04-11T14:52:28.277524Z",
     "start_time": "2025-04-11T14:52:28.273317Z"
    }
   },
   "cell_type": "code",
   "source": "unique_ele",
   "id": "cefed937ffdf58a1",
   "outputs": [
    {
     "data": {
      "text/plain": [
       "{1, 2, 3, 4, 5, 34}"
      ]
     },
     "execution_count": 12,
     "metadata": {},
     "output_type": "execute_result"
    }
   ],
   "execution_count": 12
  },
  {
   "metadata": {
    "ExecuteTime": {
     "end_time": "2025-04-11T14:53:03.189818Z",
     "start_time": "2025-04-11T14:53:03.178489Z"
    }
   },
   "cell_type": "code",
   "source": "unique_ele.update({4,4,4,5,6,6,7,8,9})",
   "id": "728df28b97218272",
   "outputs": [],
   "execution_count": 13
  },
  {
   "metadata": {
    "ExecuteTime": {
     "end_time": "2025-04-11T14:53:07.934377Z",
     "start_time": "2025-04-11T14:53:07.930265Z"
    }
   },
   "cell_type": "code",
   "source": "unique_ele",
   "id": "e71ba1a4b379316c",
   "outputs": [
    {
     "data": {
      "text/plain": [
       "{1, 2, 3, 4, 5, 6, 7, 8, 9, 34}"
      ]
     },
     "execution_count": 15,
     "metadata": {},
     "output_type": "execute_result"
    }
   ],
   "execution_count": 15
  },
  {
   "metadata": {
    "ExecuteTime": {
     "end_time": "2025-04-11T14:53:30.972204Z",
     "start_time": "2025-04-11T14:53:30.950187Z"
    }
   },
   "cell_type": "code",
   "source": "unique_ele.remove(100) # It will through error if element not founded",
   "id": "184e265f3a37b3e5",
   "outputs": [
    {
     "ename": "KeyError",
     "evalue": "100",
     "output_type": "error",
     "traceback": [
      "\u001B[0;31m---------------------------------------------------------------------------\u001B[0m",
      "\u001B[0;31mKeyError\u001B[0m                                  Traceback (most recent call last)",
      "Cell \u001B[0;32mIn[16], line 1\u001B[0m\n\u001B[0;32m----> 1\u001B[0m unique_ele\u001B[38;5;241m.\u001B[39mremove(\u001B[38;5;241m100\u001B[39m)\n",
      "\u001B[0;31mKeyError\u001B[0m: 100"
     ]
    }
   ],
   "execution_count": 16
  },
  {
   "metadata": {
    "ExecuteTime": {
     "end_time": "2025-04-11T14:53:36.239890Z",
     "start_time": "2025-04-11T14:53:36.237586Z"
    }
   },
   "cell_type": "code",
   "source": "unique_ele.discard(100) # It will not through error if element not founded",
   "id": "f03dc5e825c3fa24",
   "outputs": [],
   "execution_count": 17
  },
  {
   "metadata": {
    "ExecuteTime": {
     "end_time": "2025-04-11T14:57:24.512879Z",
     "start_time": "2025-04-11T14:57:24.507Z"
    }
   },
   "cell_type": "code",
   "source": [
    "set_1 = {1,2,3,4}\n",
    "set_2 = {3,4,5,6}\n",
    "set_3 = {1,2}"
   ],
   "id": "36ef26c6d28edd0",
   "outputs": [],
   "execution_count": 23
  },
  {
   "metadata": {
    "ExecuteTime": {
     "end_time": "2025-04-11T14:57:24.684669Z",
     "start_time": "2025-04-11T14:57:24.679996Z"
    }
   },
   "cell_type": "code",
   "source": "set_1.union(set_2) # Returns new set",
   "id": "9f4c83bc29d832bc",
   "outputs": [
    {
     "data": {
      "text/plain": [
       "{1, 2, 3, 4, 5, 6}"
      ]
     },
     "execution_count": 24,
     "metadata": {},
     "output_type": "execute_result"
    }
   ],
   "execution_count": 24
  },
  {
   "metadata": {
    "ExecuteTime": {
     "end_time": "2025-04-11T14:57:24.828945Z",
     "start_time": "2025-04-11T14:57:24.825506Z"
    }
   },
   "cell_type": "code",
   "source": "set_1.intersection(set_2) # Returns new set",
   "id": "cf34e7d3130e03ef",
   "outputs": [
    {
     "data": {
      "text/plain": [
       "{3, 4}"
      ]
     },
     "execution_count": 25,
     "metadata": {},
     "output_type": "execute_result"
    }
   ],
   "execution_count": 25
  },
  {
   "metadata": {
    "ExecuteTime": {
     "end_time": "2025-04-11T14:57:37.947801Z",
     "start_time": "2025-04-11T14:57:37.944166Z"
    }
   },
   "cell_type": "code",
   "source": "set_3.issubset(set_1)",
   "id": "510153e32bba1ade",
   "outputs": [
    {
     "data": {
      "text/plain": [
       "True"
      ]
     },
     "execution_count": 26,
     "metadata": {},
     "output_type": "execute_result"
    }
   ],
   "execution_count": 26
  },
  {
   "metadata": {
    "ExecuteTime": {
     "end_time": "2025-04-11T14:58:51.152433Z",
     "start_time": "2025-04-11T14:58:51.145691Z"
    }
   },
   "cell_type": "code",
   "source": "set_1.issuperset(set_3)",
   "id": "f1e51dcedc0e2573",
   "outputs": [
    {
     "data": {
      "text/plain": [
       "True"
      ]
     },
     "execution_count": 27,
     "metadata": {},
     "output_type": "execute_result"
    }
   ],
   "execution_count": 27
  },
  {
   "metadata": {},
   "cell_type": "code",
   "outputs": [],
   "execution_count": null,
   "source": "",
   "id": "997a029ec238e81f"
  }
 ],
 "metadata": {
  "kernelspec": {
   "name": "python3",
   "language": "python",
   "display_name": "Python 3 (ipykernel)"
  }
 },
 "nbformat": 5,
 "nbformat_minor": 9
}
