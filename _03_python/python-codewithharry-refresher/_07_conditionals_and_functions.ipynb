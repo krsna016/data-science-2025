{
 "cells": [
  {
   "metadata": {
    "ExecuteTime": {
     "end_time": "2025-04-10T23:54:44.249462Z",
     "start_time": "2025-04-10T23:54:44.239173Z"
    }
   },
   "cell_type": "code",
   "source": "var: int = 4",
   "id": "9037369573a18595",
   "outputs": [],
   "execution_count": 3
  },
  {
   "metadata": {
    "ExecuteTime": {
     "end_time": "2025-04-10T23:54:44.478094Z",
     "start_time": "2025-04-10T23:54:44.474439Z"
    }
   },
   "cell_type": "code",
   "source": [
    "if var > 53:\n",
    "    print(\"Greater\")\n",
    "else:\n",
    "    print(\"Smaller\")"
   ],
   "id": "500ba17f42f09352",
   "outputs": [
    {
     "name": "stdout",
     "output_type": "stream",
     "text": [
      "Smaller\n"
     ]
    }
   ],
   "execution_count": 4
  },
  {
   "metadata": {
    "ExecuteTime": {
     "end_time": "2025-04-10T23:54:44.696680Z",
     "start_time": "2025-04-10T23:54:44.693085Z"
    }
   },
   "cell_type": "code",
   "source": [
    "a : int = 41\n",
    "if a > 50:\n",
    "    print(\"Greater then 50\")\n",
    "elif a > 40:\n",
    "    print(\"Greater then 40\")\n",
    "elif a> 30:\n",
    "    print(\"Greater than 30\")\n",
    "else:\n",
    "    print(\"Done!!\")"
   ],
   "id": "644f6e1994d0da9b",
   "outputs": [
    {
     "name": "stdout",
     "output_type": "stream",
     "text": [
      "Greater then 40\n"
     ]
    }
   ],
   "execution_count": 5
  },
  {
   "metadata": {
    "ExecuteTime": {
     "end_time": "2025-04-10T23:58:12.839001Z",
     "start_time": "2025-04-10T23:58:12.827858Z"
    }
   },
   "cell_type": "code",
   "source": [
    "def avg(a: int, b: int) -> float:\n",
    "    return (a + b)/2"
   ],
   "id": "33c0551169226af2",
   "outputs": [],
   "execution_count": 6
  },
  {
   "metadata": {
    "ExecuteTime": {
     "end_time": "2025-04-10T23:58:33.890639Z",
     "start_time": "2025-04-10T23:58:33.884102Z"
    }
   },
   "cell_type": "code",
   "source": "avg(1, 2)",
   "id": "ec401934942f035a",
   "outputs": [
    {
     "data": {
      "text/plain": [
       "1.5"
      ]
     },
     "execution_count": 9,
     "metadata": {},
     "output_type": "execute_result"
    }
   ],
   "execution_count": 9
  },
  {
   "metadata": {
    "ExecuteTime": {
     "end_time": "2025-04-10T23:59:05.956238Z",
     "start_time": "2025-04-10T23:59:05.952322Z"
    }
   },
   "cell_type": "code",
   "source": [
    "def avg(a: int, b= 10) -> float:\n",
    "    return (a + b)/2"
   ],
   "id": "a9a4c66d15bfc9b5",
   "outputs": [],
   "execution_count": 14
  },
  {
   "metadata": {
    "ExecuteTime": {
     "end_time": "2025-04-10T23:59:14.935943Z",
     "start_time": "2025-04-10T23:59:14.931787Z"
    }
   },
   "cell_type": "code",
   "source": "avg(1)",
   "id": "526a86f6cd924811",
   "outputs": [
    {
     "data": {
      "text/plain": [
       "5.5"
      ]
     },
     "execution_count": 16,
     "metadata": {},
     "output_type": "execute_result"
    }
   ],
   "execution_count": 16
  },
  {
   "metadata": {
    "ExecuteTime": {
     "end_time": "2025-04-11T00:00:14.703352Z",
     "start_time": "2025-04-11T00:00:14.699828Z"
    }
   },
   "cell_type": "code",
   "source": [
    "def greet() -> None:\n",
    "    print(\"Hello Good Morning!!\")"
   ],
   "id": "1d61469545344748",
   "outputs": [],
   "execution_count": 18
  },
  {
   "metadata": {
    "ExecuteTime": {
     "end_time": "2025-04-11T00:00:17.089004Z",
     "start_time": "2025-04-11T00:00:17.085147Z"
    }
   },
   "cell_type": "code",
   "source": "greet()",
   "id": "e9335c26a5b8ccc7",
   "outputs": [
    {
     "name": "stdout",
     "output_type": "stream",
     "text": [
      "Hello Good Morning!!\n"
     ]
    }
   ],
   "execution_count": 19
  },
  {
   "metadata": {},
   "cell_type": "code",
   "outputs": [],
   "execution_count": null,
   "source": "",
   "id": "20847e804948a026"
  }
 ],
 "metadata": {
  "kernelspec": {
   "name": "python3",
   "language": "python",
   "display_name": "Python 3 (ipykernel)"
  }
 },
 "nbformat": 5,
 "nbformat_minor": 9
}
