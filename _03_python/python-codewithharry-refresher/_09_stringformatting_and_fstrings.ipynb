{
 "cells": [
  {
   "metadata": {
    "ExecuteTime": {
     "end_time": "2025-04-11T00:21:15.013349Z",
     "start_time": "2025-04-11T00:21:15.010043Z"
    }
   },
   "cell_type": "code",
   "source": [
    "s: str = 'Anurag'\n",
    "a : int = 22"
   ],
   "id": "a1a78c01f4cc83c0",
   "outputs": [],
   "execution_count": 7
  },
  {
   "metadata": {
    "ExecuteTime": {
     "end_time": "2025-04-11T00:21:15.184522Z",
     "start_time": "2025-04-11T00:21:15.181575Z"
    }
   },
   "cell_type": "code",
   "source": "s[1]",
   "id": "f2f69417b3c2dc12",
   "outputs": [
    {
     "data": {
      "text/plain": [
       "'n'"
      ]
     },
     "execution_count": 8,
     "metadata": {},
     "output_type": "execute_result"
    }
   ],
   "execution_count": 8
  },
  {
   "metadata": {
    "ExecuteTime": {
     "end_time": "2025-04-11T00:21:15.355175Z",
     "start_time": "2025-04-11T00:21:15.352212Z"
    }
   },
   "cell_type": "code",
   "source": "# s[0] = 'P' # String is immutable",
   "id": "fd70ead127b7fca1",
   "outputs": [],
   "execution_count": 9
  },
  {
   "metadata": {
    "ExecuteTime": {
     "end_time": "2025-04-11T00:21:15.529362Z",
     "start_time": "2025-04-11T00:21:15.525426Z"
    }
   },
   "cell_type": "code",
   "source": "s.upper()",
   "id": "1310bfd77de00648",
   "outputs": [
    {
     "data": {
      "text/plain": [
       "'ANURAG'"
      ]
     },
     "execution_count": 10,
     "metadata": {},
     "output_type": "execute_result"
    }
   ],
   "execution_count": 10
  },
  {
   "metadata": {
    "ExecuteTime": {
     "end_time": "2025-04-11T00:21:15.921872Z",
     "start_time": "2025-04-11T00:21:15.919162Z"
    }
   },
   "cell_type": "code",
   "source": "print(\"My name is {} and I am {} years old.\".format(s, a))",
   "id": "8334315c4145854a",
   "outputs": [
    {
     "name": "stdout",
     "output_type": "stream",
     "text": [
      "My name is Anurag and I am 22 years old.\n"
     ]
    }
   ],
   "execution_count": 11
  },
  {
   "metadata": {
    "ExecuteTime": {
     "end_time": "2025-04-11T00:21:48.978262Z",
     "start_time": "2025-04-11T00:21:48.967433Z"
    }
   },
   "cell_type": "code",
   "source": "print(f\"My name is {s} and I am {a} years old.\")",
   "id": "a008db877c8a0a3a",
   "outputs": [
    {
     "name": "stdout",
     "output_type": "stream",
     "text": [
      "My name is Anurag and I am 22 years old.\n"
     ]
    }
   ],
   "execution_count": 12
  },
  {
   "metadata": {
    "ExecuteTime": {
     "end_time": "2025-04-11T00:22:50.749675Z",
     "start_time": "2025-04-11T00:22:50.744073Z"
    }
   },
   "cell_type": "code",
   "source": "pi: float = 3.14159",
   "id": "a39aba99e1d5bf31",
   "outputs": [],
   "execution_count": 13
  },
  {
   "metadata": {
    "ExecuteTime": {
     "end_time": "2025-04-11T00:22:58.618810Z",
     "start_time": "2025-04-11T00:22:58.615227Z"
    }
   },
   "cell_type": "code",
   "source": "print(f'{pi:.2f}')",
   "id": "dc002b9a90b4ce39",
   "outputs": [
    {
     "name": "stdout",
     "output_type": "stream",
     "text": [
      "3.14\n"
     ]
    }
   ],
   "execution_count": 14
  },
  {
   "metadata": {
    "ExecuteTime": {
     "end_time": "2025-04-11T00:24:27.081852Z",
     "start_time": "2025-04-11T00:24:27.078962Z"
    }
   },
   "cell_type": "code",
   "source": [
    "print(f\"{\"Anurag\":.<20}\")\n",
    "print(f\"{\"Anurag\":.^20}\")\n",
    "print(f\"{\"Anurag\":.>20}\")"
   ],
   "id": "7c5f09e03505d8be",
   "outputs": [
    {
     "name": "stdout",
     "output_type": "stream",
     "text": [
      "Anurag..............\n",
      ".......Anurag.......\n",
      "..............Anurag\n"
     ]
    }
   ],
   "execution_count": 20
  },
  {
   "metadata": {},
   "cell_type": "code",
   "outputs": [],
   "execution_count": null,
   "source": "",
   "id": "c7bfe0d5ddd98400"
  }
 ],
 "metadata": {
  "kernelspec": {
   "name": "python3",
   "language": "python",
   "display_name": "Python 3 (ipykernel)"
  }
 },
 "nbformat": 5,
 "nbformat_minor": 9
}
