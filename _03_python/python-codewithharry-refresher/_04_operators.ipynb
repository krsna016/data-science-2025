{
 "cells": [
  {
   "metadata": {},
   "cell_type": "markdown",
   "source": "# Arithmetic Operators:",
   "id": "bb3240fafcad7dd9"
  },
  {
   "metadata": {
    "ExecuteTime": {
     "end_time": "2025-04-10T12:47:41.602962Z",
     "start_time": "2025-04-10T12:47:41.599635Z"
    }
   },
   "cell_type": "code",
   "source": [
    "a: int = 11\n",
    "b: int = 5"
   ],
   "id": "566148210b11da43",
   "outputs": [],
   "execution_count": 7
  },
  {
   "metadata": {
    "ExecuteTime": {
     "end_time": "2025-04-10T12:47:42.055991Z",
     "start_time": "2025-04-10T12:47:42.052602Z"
    }
   },
   "cell_type": "code",
   "source": "a + b",
   "id": "34c709c5c473a91e",
   "outputs": [
    {
     "data": {
      "text/plain": [
       "16"
      ]
     },
     "execution_count": 8,
     "metadata": {},
     "output_type": "execute_result"
    }
   ],
   "execution_count": 8
  },
  {
   "metadata": {
    "ExecuteTime": {
     "end_time": "2025-04-10T12:47:42.246225Z",
     "start_time": "2025-04-10T12:47:42.242968Z"
    }
   },
   "cell_type": "code",
   "source": "a - b",
   "id": "2318f8f2b9b42307",
   "outputs": [
    {
     "data": {
      "text/plain": [
       "6"
      ]
     },
     "execution_count": 9,
     "metadata": {},
     "output_type": "execute_result"
    }
   ],
   "execution_count": 9
  },
  {
   "metadata": {
    "ExecuteTime": {
     "end_time": "2025-04-10T12:47:42.434954Z",
     "start_time": "2025-04-10T12:47:42.430923Z"
    }
   },
   "cell_type": "code",
   "source": "a * b",
   "id": "82fe3fc63be2cdd6",
   "outputs": [
    {
     "data": {
      "text/plain": [
       "55"
      ]
     },
     "execution_count": 10,
     "metadata": {},
     "output_type": "execute_result"
    }
   ],
   "execution_count": 10
  },
  {
   "metadata": {
    "ExecuteTime": {
     "end_time": "2025-04-10T12:47:42.606550Z",
     "start_time": "2025-04-10T12:47:42.602286Z"
    }
   },
   "cell_type": "code",
   "source": "a / b",
   "id": "415d964d4dbcab90",
   "outputs": [
    {
     "data": {
      "text/plain": [
       "2.2"
      ]
     },
     "execution_count": 11,
     "metadata": {},
     "output_type": "execute_result"
    }
   ],
   "execution_count": 11
  },
  {
   "metadata": {
    "ExecuteTime": {
     "end_time": "2025-04-10T12:47:42.774719Z",
     "start_time": "2025-04-10T12:47:42.771537Z"
    }
   },
   "cell_type": "code",
   "source": "a // b",
   "id": "5a33586b85c7ae9a",
   "outputs": [
    {
     "data": {
      "text/plain": [
       "2"
      ]
     },
     "execution_count": 12,
     "metadata": {},
     "output_type": "execute_result"
    }
   ],
   "execution_count": 12
  },
  {
   "metadata": {
    "ExecuteTime": {
     "end_time": "2025-04-10T12:48:09.218500Z",
     "start_time": "2025-04-10T12:48:09.213286Z"
    }
   },
   "cell_type": "code",
   "source": "a % b",
   "id": "e68564206ec69f7",
   "outputs": [
    {
     "data": {
      "text/plain": [
       "1"
      ]
     },
     "execution_count": 13,
     "metadata": {},
     "output_type": "execute_result"
    }
   ],
   "execution_count": 13
  },
  {
   "metadata": {
    "ExecuteTime": {
     "end_time": "2025-04-10T12:48:13.582332Z",
     "start_time": "2025-04-10T12:48:13.577917Z"
    }
   },
   "cell_type": "code",
   "source": "a ** b",
   "id": "ad8564a146a563e3",
   "outputs": [
    {
     "data": {
      "text/plain": [
       "161051"
      ]
     },
     "execution_count": 14,
     "metadata": {},
     "output_type": "execute_result"
    }
   ],
   "execution_count": 14
  },
  {
   "metadata": {},
   "cell_type": "markdown",
   "source": "# Comparison Operators:",
   "id": "c1e899c37ce14999"
  },
  {
   "metadata": {
    "ExecuteTime": {
     "end_time": "2025-04-10T12:49:56.240413Z",
     "start_time": "2025-04-10T12:49:56.237441Z"
    }
   },
   "cell_type": "code",
   "source": [
    "a: int = 45\n",
    "b: int = 4"
   ],
   "id": "ea6dd7b75a3c4d90",
   "outputs": [],
   "execution_count": 16
  },
  {
   "metadata": {
    "ExecuteTime": {
     "end_time": "2025-04-10T12:50:00.503659Z",
     "start_time": "2025-04-10T12:50:00.499400Z"
    }
   },
   "cell_type": "code",
   "source": "a < b",
   "id": "12ac8e20a2516225",
   "outputs": [
    {
     "data": {
      "text/plain": [
       "False"
      ]
     },
     "execution_count": 17,
     "metadata": {},
     "output_type": "execute_result"
    }
   ],
   "execution_count": 17
  },
  {
   "metadata": {
    "ExecuteTime": {
     "end_time": "2025-04-10T12:50:05.340691Z",
     "start_time": "2025-04-10T12:50:05.335709Z"
    }
   },
   "cell_type": "code",
   "source": "a > b",
   "id": "ab88886887e30bcd",
   "outputs": [
    {
     "data": {
      "text/plain": [
       "True"
      ]
     },
     "execution_count": 18,
     "metadata": {},
     "output_type": "execute_result"
    }
   ],
   "execution_count": 18
  },
  {
   "metadata": {
    "ExecuteTime": {
     "end_time": "2025-04-10T12:50:20.344964Z",
     "start_time": "2025-04-10T12:50:20.337449Z"
    }
   },
   "cell_type": "code",
   "source": "a == b",
   "id": "e1c583f8863fcab1",
   "outputs": [
    {
     "data": {
      "text/plain": [
       "False"
      ]
     },
     "execution_count": 19,
     "metadata": {},
     "output_type": "execute_result"
    }
   ],
   "execution_count": 19
  },
  {
   "metadata": {
    "ExecuteTime": {
     "end_time": "2025-04-10T12:50:27.293826Z",
     "start_time": "2025-04-10T12:50:27.288782Z"
    }
   },
   "cell_type": "code",
   "source": "a >= b",
   "id": "db3a66c98b1c7ca7",
   "outputs": [
    {
     "data": {
      "text/plain": [
       "True"
      ]
     },
     "execution_count": 20,
     "metadata": {},
     "output_type": "execute_result"
    }
   ],
   "execution_count": 20
  },
  {
   "metadata": {
    "ExecuteTime": {
     "end_time": "2025-04-10T12:50:32.475926Z",
     "start_time": "2025-04-10T12:50:32.471720Z"
    }
   },
   "cell_type": "code",
   "source": "a <= b",
   "id": "89b4efd1e0ed5d0a",
   "outputs": [
    {
     "data": {
      "text/plain": [
       "False"
      ]
     },
     "execution_count": 21,
     "metadata": {},
     "output_type": "execute_result"
    }
   ],
   "execution_count": 21
  },
  {
   "metadata": {
    "ExecuteTime": {
     "end_time": "2025-04-10T12:51:30.208761Z",
     "start_time": "2025-04-10T12:51:30.203832Z"
    }
   },
   "cell_type": "code",
   "source": "a != b",
   "id": "cde080d1ee0ce0ce",
   "outputs": [
    {
     "data": {
      "text/plain": [
       "True"
      ]
     },
     "execution_count": 23,
     "metadata": {},
     "output_type": "execute_result"
    }
   ],
   "execution_count": 23
  },
  {
   "metadata": {},
   "cell_type": "markdown",
   "source": "# Logical Operators:",
   "id": "b96870f864deb72e"
  },
  {
   "metadata": {
    "ExecuteTime": {
     "end_time": "2025-04-10T14:02:50.996271Z",
     "start_time": "2025-04-10T14:02:50.984739Z"
    }
   },
   "cell_type": "code",
   "source": [
    "b1: bool = True\n",
    "b2: bool = False"
   ],
   "id": "10caab495acc777a",
   "outputs": [],
   "execution_count": 24
  },
  {
   "metadata": {
    "ExecuteTime": {
     "end_time": "2025-04-10T14:02:57.762444Z",
     "start_time": "2025-04-10T14:02:57.757652Z"
    }
   },
   "cell_type": "code",
   "source": "not(b1)",
   "id": "db95d49dfee14685",
   "outputs": [
    {
     "data": {
      "text/plain": [
       "False"
      ]
     },
     "execution_count": 25,
     "metadata": {},
     "output_type": "execute_result"
    }
   ],
   "execution_count": 25
  },
  {
   "metadata": {
    "ExecuteTime": {
     "end_time": "2025-04-10T14:03:00.708834Z",
     "start_time": "2025-04-10T14:03:00.705078Z"
    }
   },
   "cell_type": "code",
   "source": "not(b2)",
   "id": "5f1a595b10158ced",
   "outputs": [
    {
     "data": {
      "text/plain": [
       "True"
      ]
     },
     "execution_count": 26,
     "metadata": {},
     "output_type": "execute_result"
    }
   ],
   "execution_count": 26
  },
  {
   "metadata": {
    "ExecuteTime": {
     "end_time": "2025-04-10T14:03:21.386619Z",
     "start_time": "2025-04-10T14:03:21.381722Z"
    }
   },
   "cell_type": "code",
   "source": "b1 or b2",
   "id": "424bc9cf4b448f",
   "outputs": [
    {
     "data": {
      "text/plain": [
       "True"
      ]
     },
     "execution_count": 27,
     "metadata": {},
     "output_type": "execute_result"
    }
   ],
   "execution_count": 27
  },
  {
   "metadata": {
    "ExecuteTime": {
     "end_time": "2025-04-10T14:03:30.298873Z",
     "start_time": "2025-04-10T14:03:30.294001Z"
    }
   },
   "cell_type": "code",
   "source": "b1 and b2",
   "id": "5f80cdb34438ec46",
   "outputs": [
    {
     "data": {
      "text/plain": [
       "False"
      ]
     },
     "execution_count": 28,
     "metadata": {},
     "output_type": "execute_result"
    }
   ],
   "execution_count": 28
  },
  {
   "metadata": {},
   "cell_type": "markdown",
   "source": "# Bitwise Operators:",
   "id": "c74c90f9a80ef7f8"
  },
  {
   "metadata": {
    "ExecuteTime": {
     "end_time": "2025-04-10T14:04:24.380249Z",
     "start_time": "2025-04-10T14:04:24.373081Z"
    }
   },
   "cell_type": "code",
   "source": [
    "a: bin = 0b010101\n",
    "b: bin = 0b111000"
   ],
   "id": "28841cb6c6d887b6",
   "outputs": [],
   "execution_count": 29
  },
  {
   "metadata": {
    "ExecuteTime": {
     "end_time": "2025-04-10T14:04:32.739850Z",
     "start_time": "2025-04-10T14:04:32.735960Z"
    }
   },
   "cell_type": "code",
   "source": "a | b",
   "id": "86c0025de91e356",
   "outputs": [
    {
     "data": {
      "text/plain": [
       "61"
      ]
     },
     "execution_count": 30,
     "metadata": {},
     "output_type": "execute_result"
    }
   ],
   "execution_count": 30
  },
  {
   "metadata": {
    "ExecuteTime": {
     "end_time": "2025-04-10T14:04:38.582617Z",
     "start_time": "2025-04-10T14:04:38.578931Z"
    }
   },
   "cell_type": "code",
   "source": "a & b",
   "id": "675fc9f15b613ed9",
   "outputs": [
    {
     "data": {
      "text/plain": [
       "16"
      ]
     },
     "execution_count": 31,
     "metadata": {},
     "output_type": "execute_result"
    }
   ],
   "execution_count": 31
  },
  {
   "metadata": {},
   "cell_type": "markdown",
   "source": "# Assignment Operator:",
   "id": "18b0696fc6c44c73"
  },
  {
   "metadata": {
    "ExecuteTime": {
     "end_time": "2025-04-10T14:06:13.644038Z",
     "start_time": "2025-04-10T14:06:13.640356Z"
    }
   },
   "cell_type": "code",
   "source": "a: int = 5",
   "id": "10e4c300467a517e",
   "outputs": [],
   "execution_count": 36
  },
  {
   "metadata": {
    "ExecuteTime": {
     "end_time": "2025-04-10T14:06:13.872856Z",
     "start_time": "2025-04-10T14:06:13.869305Z"
    }
   },
   "cell_type": "code",
   "source": [
    "a += 5\n",
    "a"
   ],
   "id": "698828c1854e447f",
   "outputs": [
    {
     "data": {
      "text/plain": [
       "10"
      ]
     },
     "execution_count": 37,
     "metadata": {},
     "output_type": "execute_result"
    }
   ],
   "execution_count": 37
  },
  {
   "metadata": {
    "ExecuteTime": {
     "end_time": "2025-04-10T14:06:14.123535Z",
     "start_time": "2025-04-10T14:06:14.120188Z"
    }
   },
   "cell_type": "code",
   "source": [
    "a -= 3\n",
    "a"
   ],
   "id": "7b5ab0226a84f87b",
   "outputs": [
    {
     "data": {
      "text/plain": [
       "7"
      ]
     },
     "execution_count": 38,
     "metadata": {},
     "output_type": "execute_result"
    }
   ],
   "execution_count": 38
  },
  {
   "metadata": {
    "ExecuteTime": {
     "end_time": "2025-04-10T14:07:36.950031Z",
     "start_time": "2025-04-10T14:07:36.941970Z"
    }
   },
   "cell_type": "code",
   "source": [
    "a *= 2\n",
    "a"
   ],
   "id": "b68692a4f9e86a1",
   "outputs": [
    {
     "data": {
      "text/plain": [
       "14"
      ]
     },
     "execution_count": 39,
     "metadata": {},
     "output_type": "execute_result"
    }
   ],
   "execution_count": 39
  },
  {
   "metadata": {
    "ExecuteTime": {
     "end_time": "2025-04-10T14:07:51.235582Z",
     "start_time": "2025-04-10T14:07:51.217790Z"
    }
   },
   "cell_type": "code",
   "source": [
    "a /= 2\n",
    "a"
   ],
   "id": "bacaacbcfafdc60e",
   "outputs": [
    {
     "data": {
      "text/plain": [
       "3.5"
      ]
     },
     "execution_count": 41,
     "metadata": {},
     "output_type": "execute_result"
    }
   ],
   "execution_count": 41
  },
  {
   "metadata": {
    "ExecuteTime": {
     "end_time": "2025-04-10T14:07:57.266266Z",
     "start_time": "2025-04-10T14:07:57.261867Z"
    }
   },
   "cell_type": "code",
   "source": [
    "a %= 2\n",
    "a"
   ],
   "id": "4e3ee30c3b0a3efb",
   "outputs": [
    {
     "data": {
      "text/plain": [
       "1.5"
      ]
     },
     "execution_count": 42,
     "metadata": {},
     "output_type": "execute_result"
    }
   ],
   "execution_count": 42
  },
  {
   "metadata": {
    "ExecuteTime": {
     "end_time": "2025-04-10T14:08:14.970330Z",
     "start_time": "2025-04-10T14:08:14.962636Z"
    }
   },
   "cell_type": "code",
   "source": [
    "a **= 2\n",
    "a"
   ],
   "id": "7ff595b9e55775f9",
   "outputs": [
    {
     "data": {
      "text/plain": [
       "5.0625"
      ]
     },
     "execution_count": 44,
     "metadata": {},
     "output_type": "execute_result"
    }
   ],
   "execution_count": 44
  },
  {
   "metadata": {
    "ExecuteTime": {
     "end_time": "2025-04-10T14:08:27.926196Z",
     "start_time": "2025-04-10T14:08:27.922471Z"
    }
   },
   "cell_type": "code",
   "source": [
    "a //= b\n",
    "a"
   ],
   "id": "32221687b90aaf12",
   "outputs": [
    {
     "data": {
      "text/plain": [
       "0.0"
      ]
     },
     "execution_count": 45,
     "metadata": {},
     "output_type": "execute_result"
    }
   ],
   "execution_count": 45
  },
  {
   "metadata": {},
   "cell_type": "markdown",
   "source": "# Membership and Identity Operator:",
   "id": "3af087306c880f87"
  },
  {
   "metadata": {
    "ExecuteTime": {
     "end_time": "2025-04-10T14:10:26.315554Z",
     "start_time": "2025-04-10T14:10:26.305261Z"
    }
   },
   "cell_type": "code",
   "source": "1 in [1,2,3]",
   "id": "f7fb4d26de3ebff5",
   "outputs": [
    {
     "data": {
      "text/plain": [
       "True"
      ]
     },
     "execution_count": 46,
     "metadata": {},
     "output_type": "execute_result"
    }
   ],
   "execution_count": 46
  },
  {
   "metadata": {
    "ExecuteTime": {
     "end_time": "2025-04-10T14:10:32.500978Z",
     "start_time": "2025-04-10T14:10:32.497118Z"
    }
   },
   "cell_type": "code",
   "source": "1 not in [1,2,3]",
   "id": "7377da9509261bb1",
   "outputs": [
    {
     "data": {
      "text/plain": [
       "False"
      ]
     },
     "execution_count": 47,
     "metadata": {},
     "output_type": "execute_result"
    }
   ],
   "execution_count": 47
  },
  {
   "metadata": {
    "ExecuteTime": {
     "end_time": "2025-04-10T14:10:52.096923Z",
     "start_time": "2025-04-10T14:10:52.088648Z"
    }
   },
   "cell_type": "code",
   "source": [
    "a = 1000\n",
    "b = 1000\n",
    "a is b"
   ],
   "id": "98f25952353dbc61",
   "outputs": [
    {
     "data": {
      "text/plain": [
       "False"
      ]
     },
     "execution_count": 48,
     "metadata": {},
     "output_type": "execute_result"
    }
   ],
   "execution_count": 48
  }
 ],
 "metadata": {
  "kernelspec": {
   "name": "python3",
   "language": "python",
   "display_name": "Python 3 (ipykernel)"
  }
 },
 "nbformat": 5,
 "nbformat_minor": 9
}
