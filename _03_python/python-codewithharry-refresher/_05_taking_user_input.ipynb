{
 "cells": [
  {
   "metadata": {
    "ExecuteTime": {
     "end_time": "2025-04-10T14:13:37.635018Z",
     "start_time": "2025-04-10T14:13:30.088906Z"
    }
   },
   "cell_type": "code",
   "source": [
    "a: str = input(\"Enter a : \")\n",
    "b: str = input(\"Enter b : \")\n",
    "a, b"
   ],
   "id": "1dedc5f9f3f40cf0",
   "outputs": [
    {
     "data": {
      "text/plain": [
       "('12', '10')"
      ]
     },
     "execution_count": 1,
     "metadata": {},
     "output_type": "execute_result"
    }
   ],
   "execution_count": 1
  },
  {
   "metadata": {
    "ExecuteTime": {
     "end_time": "2025-04-10T14:13:41.375932Z",
     "start_time": "2025-04-10T14:13:41.372763Z"
    }
   },
   "cell_type": "code",
   "source": "a + b",
   "id": "1528a84902a885d8",
   "outputs": [
    {
     "data": {
      "text/plain": [
       "'1210'"
      ]
     },
     "execution_count": 2,
     "metadata": {},
     "output_type": "execute_result"
    }
   ],
   "execution_count": 2
  },
  {
   "metadata": {
    "ExecuteTime": {
     "end_time": "2025-04-10T14:13:58.781021Z",
     "start_time": "2025-04-10T14:13:58.768868Z"
    }
   },
   "cell_type": "code",
   "source": "int(a) + int(b)",
   "id": "16285b4188de481",
   "outputs": [
    {
     "data": {
      "text/plain": [
       "22"
      ]
     },
     "execution_count": 3,
     "metadata": {},
     "output_type": "execute_result"
    }
   ],
   "execution_count": 3
  },
  {
   "metadata": {
    "ExecuteTime": {
     "end_time": "2025-04-10T14:15:16.779930Z",
     "start_time": "2025-04-10T14:15:13.737248Z"
    }
   },
   "cell_type": "code",
   "source": "c = input()",
   "id": "4ae4b044da220d4e",
   "outputs": [],
   "execution_count": 4
  },
  {
   "metadata": {
    "ExecuteTime": {
     "end_time": "2025-04-10T14:15:18.276098Z",
     "start_time": "2025-04-10T14:15:18.271505Z"
    }
   },
   "cell_type": "code",
   "source": "c",
   "id": "1e705d2416a7c782",
   "outputs": [
    {
     "data": {
      "text/plain": [
       "'3232'"
      ]
     },
     "execution_count": 5,
     "metadata": {},
     "output_type": "execute_result"
    }
   ],
   "execution_count": 5
  },
  {
   "metadata": {},
   "cell_type": "code",
   "outputs": [],
   "execution_count": null,
   "source": "",
   "id": "9ab25d7bcefe1acc"
  }
 ],
 "metadata": {
  "kernelspec": {
   "name": "python3",
   "language": "python",
   "display_name": "Python 3 (ipykernel)"
  }
 },
 "nbformat": 5,
 "nbformat_minor": 9
}
