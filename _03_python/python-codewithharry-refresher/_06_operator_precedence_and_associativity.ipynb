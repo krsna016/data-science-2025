{
 "cells": [
  {
   "metadata": {},
   "cell_type": "markdown",
   "source": "##### Python Follows PEMDAS precedence - Parenthesis -> Exponent (R to L Associativity) -> Multiplication/Division/Floor Division/Modulus (L to R Associativity) -> Addition/Subtraction(L to R Associativity)",
   "id": "85255d9cec1449f7"
  },
  {
   "metadata": {
    "ExecuteTime": {
     "end_time": "2025-04-10T14:25:09.899611Z",
     "start_time": "2025-04-10T14:25:09.892950Z"
    }
   },
   "cell_type": "code",
   "source": [
    "result: int = 10 + 2 * 3\n",
    "result"
   ],
   "id": "3e328f6678872f32",
   "outputs": [
    {
     "data": {
      "text/plain": [
       "16"
      ]
     },
     "execution_count": 4,
     "metadata": {},
     "output_type": "execute_result"
    }
   ],
   "execution_count": 4
  },
  {
   "metadata": {
    "ExecuteTime": {
     "end_time": "2025-04-10T14:27:46.321910Z",
     "start_time": "2025-04-10T14:27:46.313847Z"
    }
   },
   "cell_type": "code",
   "source": "54*7-2*5**2",
   "id": "624109385da329b5",
   "outputs": [
    {
     "data": {
      "text/plain": [
       "328"
      ]
     },
     "execution_count": 5,
     "metadata": {},
     "output_type": "execute_result"
    }
   ],
   "execution_count": 5
  }
 ],
 "metadata": {
  "kernelspec": {
   "name": "python3",
   "language": "python",
   "display_name": "Python 3 (ipykernel)"
  }
 },
 "nbformat": 5,
 "nbformat_minor": 9
}
