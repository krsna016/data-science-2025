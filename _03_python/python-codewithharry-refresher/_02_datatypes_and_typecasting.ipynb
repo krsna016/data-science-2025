{
 "cells": [
  {
   "metadata": {
    "ExecuteTime": {
     "end_time": "2025-04-10T10:49:19.004411Z",
     "start_time": "2025-04-10T10:49:19.001010Z"
    }
   },
   "cell_type": "code",
   "source": "a: int = 5",
   "id": "4faabbd9d866423",
   "outputs": [],
   "execution_count": 1
  },
  {
   "metadata": {
    "ExecuteTime": {
     "end_time": "2025-04-10T10:49:28.484419Z",
     "start_time": "2025-04-10T10:49:28.481428Z"
    }
   },
   "cell_type": "code",
   "source": "b: int = 32",
   "id": "8a5f9af830ecb7b5",
   "outputs": [],
   "execution_count": 2
  },
  {
   "metadata": {
    "ExecuteTime": {
     "end_time": "2025-04-10T10:49:34.247791Z",
     "start_time": "2025-04-10T10:49:34.243014Z"
    }
   },
   "cell_type": "code",
   "source": "a + b",
   "id": "b4d2323c834c43e6",
   "outputs": [
    {
     "data": {
      "text/plain": [
       "37"
      ]
     },
     "execution_count": 3,
     "metadata": {},
     "output_type": "execute_result"
    }
   ],
   "execution_count": 3
  },
  {
   "metadata": {
    "ExecuteTime": {
     "end_time": "2025-04-10T10:53:32.827220Z",
     "start_time": "2025-04-10T10:53:32.823417Z"
    }
   },
   "cell_type": "code",
   "source": "name: str = 'Anurag'",
   "id": "ccf7e1810ce69bcd",
   "outputs": [],
   "execution_count": 6
  },
  {
   "metadata": {
    "ExecuteTime": {
     "end_time": "2025-04-10T10:55:11.401883Z",
     "start_time": "2025-04-10T10:55:11.393369Z"
    }
   },
   "cell_type": "code",
   "source": "print(\"Hello World\") # This will print - Hello World to the screen",
   "id": "bea5833ced1ce289",
   "outputs": [
    {
     "name": "stdout",
     "output_type": "stream",
     "text": [
      "Hello World\n"
     ]
    }
   ],
   "execution_count": 9
  },
  {
   "metadata": {
    "ExecuteTime": {
     "end_time": "2025-04-10T10:55:11.586589Z",
     "start_time": "2025-04-10T10:55:11.584499Z"
    }
   },
   "cell_type": "code",
   "source": "# This is a comment",
   "id": "771c53ff1c19b6f7",
   "outputs": [],
   "execution_count": 10
  },
  {
   "metadata": {
    "ExecuteTime": {
     "end_time": "2025-04-10T10:55:19.394648Z",
     "start_time": "2025-04-10T10:55:19.390827Z"
    }
   },
   "cell_type": "code",
   "source": "print(type(a))",
   "id": "acfa933e58cac3bb",
   "outputs": [
    {
     "name": "stdout",
     "output_type": "stream",
     "text": [
      "<class 'int'>\n"
     ]
    }
   ],
   "execution_count": 11
  },
  {
   "metadata": {
    "ExecuteTime": {
     "end_time": "2025-04-10T10:55:28.641356Z",
     "start_time": "2025-04-10T10:55:28.636847Z"
    }
   },
   "cell_type": "code",
   "source": "type(name)",
   "id": "b156bf2d02c89022",
   "outputs": [
    {
     "data": {
      "text/plain": [
       "str"
      ]
     },
     "execution_count": 12,
     "metadata": {},
     "output_type": "execute_result"
    }
   ],
   "execution_count": 12
  },
  {
   "metadata": {
    "ExecuteTime": {
     "end_time": "2025-04-10T11:01:30.823737Z",
     "start_time": "2025-04-10T11:01:30.818405Z"
    }
   },
   "cell_type": "code",
   "source": [
    "a: str = '4566'\n",
    "b: str = \"5677\""
   ],
   "id": "521b2294fcb41c96",
   "outputs": [],
   "execution_count": 13
  },
  {
   "metadata": {
    "ExecuteTime": {
     "end_time": "2025-04-10T11:01:40.242978Z",
     "start_time": "2025-04-10T11:01:40.236341Z"
    }
   },
   "cell_type": "code",
   "source": "a + b",
   "id": "166febfbdbd0da67",
   "outputs": [
    {
     "data": {
      "text/plain": [
       "'45665677'"
      ]
     },
     "execution_count": 14,
     "metadata": {},
     "output_type": "execute_result"
    }
   ],
   "execution_count": 14
  },
  {
   "metadata": {
    "ExecuteTime": {
     "end_time": "2025-04-10T11:02:10.656593Z",
     "start_time": "2025-04-10T11:02:10.648951Z"
    }
   },
   "cell_type": "code",
   "source": "int(a) + int(b) # Typecasting",
   "id": "d403abfd093ca04d",
   "outputs": [
    {
     "data": {
      "text/plain": [
       "10243"
      ]
     },
     "execution_count": 16,
     "metadata": {},
     "output_type": "execute_result"
    }
   ],
   "execution_count": 16
  },
  {
   "metadata": {},
   "cell_type": "code",
   "outputs": [],
   "execution_count": null,
   "source": "",
   "id": "6410e6882463e403"
  }
 ],
 "metadata": {
  "kernelspec": {
   "name": "python3",
   "language": "python",
   "display_name": "Python 3 (ipykernel)"
  }
 },
 "nbformat": 5,
 "nbformat_minor": 9
}
