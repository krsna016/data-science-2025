{
 "cells": [
  {
   "metadata": {
    "ExecuteTime": {
     "end_time": "2025-04-11T00:02:16.179273Z",
     "start_time": "2025-04-11T00:02:16.176719Z"
    }
   },
   "cell_type": "code",
   "source": "code: int = 500",
   "id": "f79f404ca74ef250",
   "outputs": [],
   "execution_count": 1
  },
  {
   "metadata": {
    "ExecuteTime": {
     "end_time": "2025-04-11T00:05:14.091463Z",
     "start_time": "2025-04-11T00:05:14.086600Z"
    }
   },
   "cell_type": "code",
   "source": [
    "match code:\n",
    "    case 200:\n",
    "        print(\"OK\")\n",
    "    case 400:\n",
    "        print(\"BAD REQUEST\")\n",
    "    case 404:\n",
    "        print(\"NOT FOUND\")\n",
    "    case _:\n",
    "        print(\"Nothing Matched..\")\n",
    "print(\"End of program!!\")"
   ],
   "id": "65ab112e3c704eac",
   "outputs": [
    {
     "name": "stdout",
     "output_type": "stream",
     "text": [
      "Nothing Matched..\n",
      "End of program!!\n"
     ]
    }
   ],
   "execution_count": 4
  },
  {
   "metadata": {
    "ExecuteTime": {
     "end_time": "2025-04-11T00:16:50.239995Z",
     "start_time": "2025-04-11T00:16:50.232012Z"
    }
   },
   "cell_type": "code",
   "source": "code = 600",
   "id": "a178c22532103075",
   "outputs": [],
   "execution_count": 6
  },
  {
   "metadata": {
    "ExecuteTime": {
     "end_time": "2025-04-11T00:17:58.380923Z",
     "start_time": "2025-04-11T00:17:58.377536Z"
    }
   },
   "cell_type": "code",
   "source": [
    "match code:\n",
    "    case 400:\n",
    "        print(\"BAD REQUEST\")\n",
    "    case 404:\n",
    "        print(\"NOT FOUND\")\n",
    "    case c if c > 500:\n",
    "        print(\"OK\")\n",
    "print(\"End of program!!\")"
   ],
   "id": "47f9d18601023846",
   "outputs": [
    {
     "name": "stdout",
     "output_type": "stream",
     "text": [
      "OK\n",
      "End of program!!\n"
     ]
    }
   ],
   "execution_count": 10
  },
  {
   "metadata": {},
   "cell_type": "code",
   "outputs": [],
   "execution_count": null,
   "source": "",
   "id": "caad5e60e0e3173a"
  }
 ],
 "metadata": {
  "kernelspec": {
   "name": "python3",
   "language": "python",
   "display_name": "Python 3 (ipykernel)"
  }
 },
 "nbformat": 5,
 "nbformat_minor": 9
}
